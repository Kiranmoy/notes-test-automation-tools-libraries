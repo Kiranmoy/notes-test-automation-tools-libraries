{
 "cells": [
  {
   "cell_type": "markdown",
   "id": "8d205207-b31b-45b7-8570-284b145be840",
   "metadata": {},
   "source": [
    "# Using Tags"
   ]
  },
  {
   "cell_type": "markdown",
   "id": "33501781-f94a-4f55-8cb5-894417f4a386",
   "metadata": {},
   "source": [
    "* Tags are used to control test execution.\n",
    "* Tags applied to a Feature will be applicable to all the Scenarios under the Feature.\n",
    "* Tags applied to a Scenario only applicable to that Scenario.\n",
    "* Tags are any words including underscore.\n",
    "* Multiple Tags can be applied to **Feature** or **Scenario** separated by spaces.\n",
    "* Examples: `@smoke`, `@regression`, `@DISABLED`, `@checkout_flow`, etc.\n",
    "\n",
    "**How to execute the test with tags?**\n",
    "```\n",
    "behave example.feature --tags=regression\n",
    "\n",
    "OR\n",
    "\n",
    "behave example.feature --tags regression\n",
    "```\n",
    "\n",
    "**Multiple tags usage**\n",
    "\n",
    "Let's say you have tags @aa, @bb, & @cc. They're applied to different scenarios in different comnbinations.\n",
    "* **`behave --tags=aa,bb`**: run scenarios tagged aa **OR** bb.\n",
    "* **`behave --tags=aa --tags=bb`**: run scenarios tagged both aa **AND** bb.\n",
    "* **`behave --tags=~aa`**: run everything except tag aa (NOT aa).\n",
    "* **`behave --tags=aa,bb --tags=~cc`**: (aa OR bb) AND NOT cc\n",
    "\n",
    "**Additional command line options**\n",
    "\n",
    "* To hide the scenarios that were skipped use command line argument: **`k`** or **`--no-skipped`**\n",
    "* By default it should be turned on but if it is configured to be turned off, you can show it by: **`bheave --show-skipped`**\n",
    "* To get more information about tags, do: **`behave --tags-help`**"
   ]
  },
  {
   "cell_type": "code",
   "execution_count": null,
   "id": "721e3eb4-321a-4259-b975-72096800ea56",
   "metadata": {},
   "outputs": [],
   "source": []
  }
 ],
 "metadata": {
  "kernelspec": {
   "display_name": "Python 3 (ipykernel)",
   "language": "python",
   "name": "python3"
  },
  "language_info": {
   "codemirror_mode": {
    "name": "ipython",
    "version": 3
   },
   "file_extension": ".py",
   "mimetype": "text/x-python",
   "name": "python",
   "nbconvert_exporter": "python",
   "pygments_lexer": "ipython3",
   "version": "3.12.5"
  }
 },
 "nbformat": 4,
 "nbformat_minor": 5
}
