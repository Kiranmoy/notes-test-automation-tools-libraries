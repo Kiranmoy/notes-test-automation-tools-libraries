{
 "cells": [
  {
   "cell_type": "markdown",
   "id": "70628d15-1576-4ed9-9a06-d7b60b2e18f6",
   "metadata": {},
   "source": [
    "# Calling step in another step: `context.execute_step()`"
   ]
  },
  {
   "cell_type": "markdown",
   "id": "049e4eb3-9e36-431b-af75-abdefc55892e",
   "metadata": {},
   "source": [
    "```python\n",
    "\n",
    "@given(\"I go to registration page\")\n",
    "def go_to_registration_page(context):\n",
    "    print(\"Going to registration page\")\n",
    "\n",
    "@when(\"I fill in the form\")\n",
    "def fill_in_the_form(context):\n",
    "    print(\"I am filling in the form\")\n",
    "\n",
    "@when(\"I click on submit\")\n",
    "def click_on_submit(context):\n",
    "    print(\"I click on submit\")\n",
    "\n",
    "@then(\"I should get success message\")\n",
    "def i_should_get_success_message(context):\n",
    "    print(\"I get success message\")\n",
    "\n",
    "\n",
    "\n",
    "\n",
    "@given(\"I fill in the registration form and submit\")\n",
    "def fill_in_registration_form_and_submit(context):\n",
    "\n",
    "    # Calling steps in another steps\n",
    "    context.execute_steps(u\"\"\"\n",
    "                Given I go to registration page\n",
    "                When I fill in the form\n",
    "                And I click on submit\n",
    "                \"\"\")\n",
    "\n",
    "```"
   ]
  },
  {
   "cell_type": "markdown",
   "id": "b540645a-424d-4ae8-a164-b7b163a920a0",
   "metadata": {},
   "source": [
    "# Passing user data from command line: `context.config.userdata.get()`"
   ]
  },
  {
   "cell_type": "markdown",
   "id": "ea1763de-44bd-4fe4-bfa8-284902e618f1",
   "metadata": {},
   "source": [
    "Command: **`bheave -D prefix=aka`**\n",
    "\n",
    "```python\n",
    "\n",
    "@given(\"I create a new user\")\n",
    "def create_new_user(context):\n",
    "    \"\"\"\n",
    "    Step to create a new user.\n",
    "    :return:\n",
    "    \"\"\"\n",
    "    print(\"Fetching command line argument\")\n",
    "    prefix = context.config.userdata.get('prefix')\n",
    "\n",
    "```"
   ]
  },
  {
   "cell_type": "markdown",
   "id": "6b2e89e4-a6b6-4719-bb8f-e727857f1f04",
   "metadata": {},
   "source": [
    "# Passing String to Step Definition: `context.text`"
   ]
  },
  {
   "cell_type": "markdown",
   "id": "9d4b072a-fb2f-436c-8a34-3fe2ecc7c608",
   "metadata": {},
   "source": [
    "## Feature"
   ]
  },
  {
   "cell_type": "markdown",
   "id": "f0f6932d-72a1-48f0-be27-a6e3263e772c",
   "metadata": {},
   "source": [
    "```gherkin\n",
    "\n",
    "\n",
    "Feature: My Feature 1\n",
    "\n",
    "    Scenario: Scenario 1 of Feature 1\n",
    "\n",
    "        Given I am a passing step\n",
    "          \"\"\"\n",
    "          This is just random string in 1st step.\n",
    "          Second line of 1st string. And\n",
    "          3rd line of 1st string.\n",
    "          \"\"\"\n",
    "        Then I another a passing step\n",
    "          \"\"\"\n",
    "          {\"first_name\": \"Admas\", \"last_name\": \"Kinfu\",\n",
    "          \"phone\": \"4081111111\"}\n",
    "          \"\"\"\n",
    "\n",
    "```"
   ]
  },
  {
   "cell_type": "markdown",
   "id": "1ad12881-1cc7-479e-9b5b-6bf9914bc7e2",
   "metadata": {},
   "source": [
    "## Step Definition"
   ]
  },
  {
   "cell_type": "markdown",
   "id": "225cc8ea-f072-4c88-b5eb-d610ef5acf43",
   "metadata": {},
   "source": [
    "```python\n",
    "\n",
    "@step(\"I am a passing step\")\n",
    "def i_am_a_passing_steps(context):\n",
    "    print(\"1ST PASS\")\n",
    "    print(\"1ST PASS\")\n",
    "    print(\"1ST PASS\")\n",
    "    step_text = context.text\n",
    "\n",
    "\n",
    "@step(\"I another a passing step\")\n",
    "def i_another_a_passing_step(context):\n",
    "    print(\"Another PASSING\")\n",
    "    print(\"Another PASSING\")\n",
    "    print(\"Another PASSING\")\n",
    "    my_json = json.loads(context.text)\n",
    "\n",
    "```"
   ]
  },
  {
   "cell_type": "code",
   "execution_count": null,
   "id": "63c8f29c-238a-4b11-bcdd-4f9d90ac0abc",
   "metadata": {},
   "outputs": [],
   "source": []
  }
 ],
 "metadata": {
  "kernelspec": {
   "display_name": "Python 3 (ipykernel)",
   "language": "python",
   "name": "python3"
  },
  "language_info": {
   "codemirror_mode": {
    "name": "ipython",
    "version": 3
   },
   "file_extension": ".py",
   "mimetype": "text/x-python",
   "name": "python",
   "nbconvert_exporter": "python",
   "pygments_lexer": "ipython3",
   "version": "3.12.5"
  }
 },
 "nbformat": 4,
 "nbformat_minor": 5
}
