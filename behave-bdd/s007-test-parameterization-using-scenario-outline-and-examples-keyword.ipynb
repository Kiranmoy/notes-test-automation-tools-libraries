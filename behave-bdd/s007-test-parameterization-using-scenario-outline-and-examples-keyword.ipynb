{
 "cells": [
  {
   "cell_type": "markdown",
   "id": "1fe7ddc6-ea25-4cc5-8e15-778203e0d848",
   "metadata": {},
   "source": [
    "# Scenario Outline"
   ]
  },
  {
   "cell_type": "markdown",
   "id": "3f069508-7289-4c1f-bfb8-88ed2f502602",
   "metadata": {},
   "source": [
    "* **`Scenario Outline`** is used:\n",
    "    * To be organized\n",
    "    * To write less code (Gherkin)\n",
    "    * To group test cases\n",
    "* When we need to run the same test with different parameters.\n",
    "* Instead of repeating tests with different parameters, we use **`Scenario Outline`**."
   ]
  },
  {
   "cell_type": "markdown",
   "id": "cae82346-aa98-484e-9b63-416f8d718b6b",
   "metadata": {},
   "source": [
    "# Example without `Scenario Outline`"
   ]
  },
  {
   "cell_type": "markdown",
   "id": "dd1fe9a2-2b3c-4c91-8059-7958501a1c32",
   "metadata": {},
   "source": [
    "```gherkin\n",
    "\n",
    "Feature: Create a user with a bad password\n",
    "\n",
    "Scenario: try password \"too long\"\n",
    "    Given I am at create user page\n",
    "    When I type \"too long\" password\n",
    "    Then I should see error message\n",
    "\n",
    "Scenario: try password \"too short\"\n",
    "    Given I am at create user page\n",
    "    When I type \"too short\" password\n",
    "    Then I should see error message\n",
    "\n",
    "Scenario: try password \"all numbers\"\n",
    "    Given I am at create user page\n",
    "    When I type \"all numbers\" password\n",
    "    Then I should see error message\n",
    "\n",
    "Scenario: try password \"all letters\"\n",
    "    Given I am at create user page\n",
    "    When I type \"all letters\" password\n",
    "    Then I should see error message\n",
    "```"
   ]
  },
  {
   "cell_type": "markdown",
   "id": "a36652be-8e13-4277-83cb-91ded9854938",
   "metadata": {},
   "source": [
    "# Example with `Scenario Outline`"
   ]
  },
  {
   "cell_type": "markdown",
   "id": "72c310a1-3a08-4f84-82bf-ed174cd77ac9",
   "metadata": {},
   "source": [
    "```gherkin\n",
    "\n",
    "Feature: Create a user with a bad password\n",
    "\n",
    "Scenario Outline: try password \"<type>\"\n",
    "    Given I am at create user page\n",
    "    When I type \"<type>\" password\n",
    "    Then I should see error message\n",
    "Examples:\n",
    "    | type         |\n",
    "    | too long     |\n",
    "    | too short    |\n",
    "    | all numbers  |\n",
    "    | all letters  |\n",
    "\n",
    "```"
   ]
  },
  {
   "cell_type": "code",
   "execution_count": null,
   "id": "dc396433-208c-4866-a502-1f9cdf8bdbc7",
   "metadata": {},
   "outputs": [],
   "source": []
  }
 ],
 "metadata": {
  "kernelspec": {
   "display_name": "Python 3 (ipykernel)",
   "language": "python",
   "name": "python3"
  },
  "language_info": {
   "codemirror_mode": {
    "name": "ipython",
    "version": 3
   },
   "file_extension": ".py",
   "mimetype": "text/x-python",
   "name": "python",
   "nbconvert_exporter": "python",
   "pygments_lexer": "ipython3",
   "version": "3.12.5"
  }
 },
 "nbformat": 4,
 "nbformat_minor": 5
}
