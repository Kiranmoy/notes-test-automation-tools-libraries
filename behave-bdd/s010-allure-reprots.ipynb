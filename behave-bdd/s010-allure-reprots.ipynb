{
 "cells": [
  {
   "cell_type": "markdown",
   "id": "476337e8-d46f-4407-a32d-3c36aae2b700",
   "metadata": {},
   "source": [
    "To generate an Allure report for behave, we need two components:\n",
    "1. Install Allure: **https://allurereport.org/docs/install-for-windows/**\n",
    "2. Install **`allure-behave`** library: **https://pypi.org/project/allure-behave/**"
   ]
  },
  {
   "cell_type": "code",
   "execution_count": null,
   "id": "0fc39276-833a-48d4-ab69-1ea6d1b6d7ef",
   "metadata": {},
   "outputs": [],
   "source": []
  }
 ],
 "metadata": {
  "kernelspec": {
   "display_name": "Python 3 (ipykernel)",
   "language": "python",
   "name": "python3"
  },
  "language_info": {
   "codemirror_mode": {
    "name": "ipython",
    "version": 3
   },
   "file_extension": ".py",
   "mimetype": "text/x-python",
   "name": "python",
   "nbconvert_exporter": "python",
   "pygments_lexer": "ipython3",
   "version": "3.12.5"
  }
 },
 "nbformat": 4,
 "nbformat_minor": 5
}
