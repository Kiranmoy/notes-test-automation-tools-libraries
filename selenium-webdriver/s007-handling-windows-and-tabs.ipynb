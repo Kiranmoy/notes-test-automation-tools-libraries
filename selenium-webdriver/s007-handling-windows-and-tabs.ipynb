{
 "cells": [
  {
   "cell_type": "markdown",
   "id": "7685ae4b-5719-4096-a703-26e186d6d745",
   "metadata": {},
   "source": [
    "# Window Management"
   ]
  },
  {
   "cell_type": "markdown",
   "id": "cd2e60a1-c4d8-4c20-9522-8f46cd1e47f6",
   "metadata": {},
   "source": [
    "Screen resolution can impact how your web application renders, so `WebDriver` provides mechanisms for moving and resizing the browser window.\n",
    "\n",
    "**Get window size**: Fetches the size of the browser window in pixels.\n",
    "\n",
    "```\n",
    "# Access each dimension individually\n",
    "\n",
    "width = driver.get_window_size().get(\"width\")\n",
    "height = driver.get_window_size().get(\"height\")\n",
    "\n",
    "# Or, store the dimensions and query them later\n",
    "\n",
    "window_size = driver.get_window_size()\n",
    "width = window_size.get(\"width\")\n",
    "height = window_size.get(\"height\")\n",
    "```\n",
    "\n",
    "**Set window size**: Restores the window and sets the window size.\n",
    "\n",
    "```\n",
    "driver.set_window_size(1024, 768)\n",
    "```\n",
    "\n",
    "**Get window position**: Fetches the coordinates of the top left coordinate of the browser window.\n",
    "\n",
    "```\n",
    "# Access each dimension individually\n",
    "\n",
    "x_coordinate = driver.get_window_position().get(\"x\")\n",
    "y_coordinate = driver.get_window_position().get(\"y\")\n",
    "\n",
    "# Or, store the dimensions and query them later\n",
    "\n",
    "window_size = driver.get_window_position()\n",
    "x_coordinate = window_size.get(\"x\")\n",
    "y_coordinate = window_size.get(\"y\")\n",
    "```\n",
    "\n",
    "**Set window position**: \n",
    "Moves the window to the chosen position.\n",
    "\n",
    "```\n",
    "# Move the window to the top left of the primary monitor\n",
    "\n",
    "driver.set_window_position(0,0)\n",
    "```\n",
    "\n",
    "**Maximise window**:\n",
    "* Enlarges the window. \n",
    "* For most operating systems, the window will fill the screen, without blocking the operating system’s own menus and toolbars.\n",
    "\n",
    "```\n",
    "driver.maximize_window()\n",
    "```\n",
    "\n",
    "**Minimize window**:\n",
    "* Minimizes the window of current browsing context.\n",
    "* The exact behaviour of this command is specific to individual window managers.\n",
    "* Minimize Window typically hides the window in the system tray.\n",
    "* **Note**: This feature works with Selenium 4 and later versions.\n",
    "\n",
    "```\n",
    "driver.minimize_window()\n",
    "```\n",
    "\n",
    "**Fullscreen window**: Fills the entire screen, similar to pressing `F11` in most browsers.\n",
    "\n",
    "```\n",
    "driver.fullscreen_window()\n",
    "```\n",
    "\n",
    "**TakeScreenshot**:\n",
    "* Used to capture screenshots for current browsing context.\n",
    "* The `WebDriver` endpoint screenshot returns a screenshot which is encoded in Base64 format. \n",
    "\n",
    "```\n",
    "# Return the screenshot of the image as Base64 encoded string\n",
    "driver.save_screenshot('screenshot.png')\n",
    "\n",
    "# Gets the screenshot of the current window as a binary data.\n",
    "image_bytes = driver.get_screenshot_as_png()\n",
    "print(\"Binary image data: \", image_bytes)\n",
    "\n",
    "# Saves a screenshot of the current window to a PNG image file.\n",
    "# Returns False if there is any IOError, else returns True.\n",
    "# Use full paths in your filename.\n",
    "driver.get_screenshot_as_file('screenshot_file.png')\n",
    "\n",
    "# Gets the screenshot of the current window as a base64 encoded string which is useful in embedded images in HTML\n",
    "image_base64_str = driver.get_screenshot_as_base64()\n",
    "print(\"Base64 encoded string: \", image_base64_str)\n",
    "```\n"
   ]
  },
  {
   "cell_type": "markdown",
   "id": "32e9df8a-11aa-43c9-a8dd-c2dd42ab049c",
   "metadata": {},
   "source": [
    "# Handling windows & tabs"
   ]
  },
  {
   "attachments": {
    "3d5305b3-8e00-46d2-86db-cdd4fd753b4e.png": {
     "image/png": "[encoded data removed]"
    }
   },
   "cell_type": "markdown",
   "id": "2ce6f1bd-9d1f-437c-a6d2-9389ab5ad205",
   "metadata": {},
   "source": [
    "It’s rare for a modern web application not to have any frames or to be constrained to a single window. \n",
    "\n",
    "When we have multiple windows in any web application, the activity may need to switch control among several windows from one to another, in order to complete the operation. After completion of the operation, it has to return to the **main window** `i.e.` **parent window**. \n",
    "\n",
    "WebDriver supports moving between **named windows** using the **`switch_to.window()`** method:\n",
    "```\n",
    "driver.switch_to.window(\"windowName\")\n",
    "```\n",
    "\n",
    "All calls to driver will now be interpreted as being directed to the particular window. \n",
    "* **But how do you know the window’s name?** \n",
    "* Take a look at the javascript or link that opened it.\n",
    "\n",
    "![image.png](attachment:3d5305b3-8e00-46d2-86db-cdd4fd753b4e.png)\n",
    "\n",
    "> Alternatively, you can pass a **“window handle”** to the `switch_to.window()` method."
   ]
  },
  {
   "cell_type": "markdown",
   "id": "a754ed91-8cb0-4f92-83c5-a8d6fbd652bf",
   "metadata": {},
   "source": [
    "## Window handle"
   ]
  },
  {
   "cell_type": "markdown",
   "id": "d519e119-8761-4942-a244-2fcebd76abf4",
   "metadata": {},
   "source": [
    "**What is a window handle?** \n",
    "* A window handle is a **unique identifier** that holds the address of the window. \n",
    "* This is a pointer to a window, which is a string value. \n",
    "* **`WebDriver`** provides a property called **`window_handles`** that returns the handles of all windows within the current session.\n",
    "* It is guaranteed that each window will have a unique window handle.\n",
    "* Using these window handles, **`WebDriver`** can easily switch control from one window to another.\n",
    "\n",
    "**Example**:\n",
    "```\n",
    "# returns a list of strings: each string is a unique window handle.\n",
    "handles = driver.window_handles\n",
    "\n",
    "for handle in handles:\n",
    "    driver.switch_to.window(handle)\n",
    "```"
   ]
  },
  {
   "cell_type": "markdown",
   "id": "f8d8caba-5e49-4a3d-b935-79d748edb1e7",
   "metadata": {},
   "source": [
    "## Get window handle(s)"
   ]
  },
  {
   "cell_type": "markdown",
   "id": "ea120c3f-e7b7-48d3-b213-da01f0c07f8b",
   "metadata": {},
   "source": [
    "* **`WebDriver`** does not make the distinction between windows and tabs.\n",
    "* If your site opens a new tab or window, Selenium will let you work with it using a window handle. \n",
    "* Each window has a unique identifier that remains persistent in a single session. \n",
    "\n",
    "You can get the window handle of the current window as a String by using: \n",
    "```\n",
    "curent_window_handle = driver.current_window_handle\n",
    "```\n",
    "\n",
    "You can get all the window handles for the current session as a list of String by using:\n",
    "```\n",
    "window_handles = driver.window_handles\n",
    "```\n"
   ]
  },
  {
   "cell_type": "markdown",
   "id": "c2e3c520-df24-4f72-b145-3507a4d5cbc6",
   "metadata": {},
   "source": [
    "## Closing a window/tab and switching back to parent window/tab"
   ]
  },
  {
   "cell_type": "markdown",
   "id": "eeea2481-6fb5-447c-ba9e-7c53fdc27945",
   "metadata": {},
   "source": [
    "When you are finished with a window or tab and it is not the last window or tab open in your browser, you should close it and switch back to the window you were using previously. \n",
    "\n",
    "Assuming you followed the code sample in the previous section you will have the previous window handle stored in a variable. \n",
    "\n",
    "```\n",
    "main_window = driver.current_window_handle\n",
    "\n",
    "# switch to tab/window\n",
    "window_handles = driver.window_handles\n",
    "driver.switch_to.window(window_handles[1])\n",
    "driver.close()\n",
    "\n",
    "driver.switch_to.window(window_handles[0])   OR   driver.switch_to.window(main_window)\n",
    "```\n",
    "\n",
    "Forgetting to switch back to another window handle after closing a window will leave **`WebDriver`** executing on the now-closed page, and will trigger a **`NoSuchWindowException`**. \n",
    "\n",
    "You must switch back to a valid window handle in order to continue execution.\n"
   ]
  },
  {
   "cell_type": "code",
   "execution_count": null,
   "id": "7ad5307a-aaab-43a8-9dc8-a17487e97c91",
   "metadata": {},
   "outputs": [],
   "source": []
  }
 ],
 "metadata": {
  "kernelspec": {
   "display_name": "Python 3 (ipykernel)",
   "language": "python",
   "name": "python3"
  },
  "language_info": {
   "codemirror_mode": {
    "name": "ipython",
    "version": 3
   },
   "file_extension": ".py",
   "mimetype": "text/x-python",
   "name": "python",
   "nbconvert_exporter": "python",
   "pygments_lexer": "ipython3",
   "version": "3.12.5"
  }
 },
 "nbformat": 4,
 "nbformat_minor": 5
}
