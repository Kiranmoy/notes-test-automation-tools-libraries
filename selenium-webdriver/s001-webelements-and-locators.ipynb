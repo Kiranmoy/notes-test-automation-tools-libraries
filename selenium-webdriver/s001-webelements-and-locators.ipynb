{
 "cells": [
  {
   "cell_type": "markdown",
   "id": "7ce5408b-a8d3-4929-85ea-846d57b50353",
   "metadata": {},
   "source": [
    "# WebElement"
   ]
  },
  {
   "cell_type": "markdown",
   "id": "b71facb4-d73c-41bb-a1c1-811434729dc3",
   "metadata": {},
   "source": [
    "* Web elements are different components of a web page.\n",
    "* Technically speaking, web elements are **HTML elements** (DOM elements) which altogether forms an HTML Document **(i.e. a web page)**."
   ]
  },
  {
   "cell_type": "markdown",
   "id": "ef36d7c0-0a47-4f65-8dad-30ba6e5e0d26",
   "metadata": {},
   "source": [
    "# Types of WebElement"
   ]
  },
  {
   "cell_type": "markdown",
   "id": "cb9e2327-b74c-4879-8756-938807a2fd58",
   "metadata": {},
   "source": [
    "1.\tText or Paragraph\n",
    "2.\tImage\n",
    "3.\tTable\n",
    "4.\tFrame\n",
    "5.\tHyperlink\n",
    "6.\tText box or Edit box\n",
    "7.\tText area\n",
    "8.\tButton\n",
    "9.\tRadio button\n",
    "10.\tCheck box\n",
    "11.\tDrop Down\n",
    "\n",
    "Testing these web elements essentially means we have to check whether they are working fine and responding the way we want it to.\n",
    "\n",
    "For example, if we are testing text boxes, what would you test it for?\n",
    "* Whether we are able to send text or numbers to the text box\n",
    "* Can we retrieve text that has been passed to the text box, etc.?\n",
    "\n",
    "If we are testing an image, we might want to:\n",
    "* Download the image\n",
    "* Upload the image\n",
    "* Click on the image link\n",
    "* Retrieve the image title, etc.\n",
    "\n",
    "Similarly, operations can be performed on each of the web elements.\n",
    "\n",
    "In short, testing a web element means checking whether we’re able to perform the intended operation meant for that web elements.\n"
   ]
  },
  {
   "cell_type": "markdown",
   "id": "ca724e90-666d-4114-8174-4ae1be23f044",
   "metadata": {},
   "source": [
    "# Locators"
   ]
  },
  {
   "cell_type": "markdown",
   "id": "d08e2024-14d1-47d7-9e89-15f8c55e1ca3",
   "metadata": {},
   "source": [
    "In order to perform operations on web elements, we need to first locate the web elements on the web page.\n",
    "* Every web element on a web page is an HTML element and we know HTML elements has various attributes (properties). \n",
    "* Some attributes(properties) can have same value for multiple elements such as **`class`**, and some attributes(properties) are unique such as **`id`** or **`name`**  - means no two element can have same value for those attributes.\n",
    "* There are specific attributes that help us to locate web elements uniquely on a web page such as `name`, `id`.\n",
    "* Since these attributes helps to locate web elements, these are called **locators**.\n",
    "\n",
    "**What is Locator?**\n",
    "* **Locators** are attribute or combinations of attributes that helps to uniquely identify web elements in a web page.\n",
    "* We can think locator as an address that identifies an web element uniquely on a web page."
   ]
  },
  {
   "cell_type": "markdown",
   "id": "f4908fa9-bcd1-43d8-a1d0-5ef2d0d7b36f",
   "metadata": {},
   "source": [
    "# Types of locators"
   ]
  },
  {
   "cell_type": "markdown",
   "id": "35bd60fc-d720-4a17-8131-3d882ead8e8f",
   "metadata": {},
   "source": [
    "1.\tID\n",
    "2.\tNAME\n",
    "3.\tCLASS NAME\n",
    "4.\tTAG NAME\n",
    "5.\tLINK TEXT\n",
    "6.\tPARTIAL LINK TEXT\n",
    "7.\tCSS SELECTOR\n",
    "8.\tXPATH\n",
    "\n",
    "These are also called **Locator Strategy**.\n",
    "\n",
    "Using the right locator ensures that the tests are faster, more reliable and has lower maintenance over releases.\n"
   ]
  },
  {
   "cell_type": "markdown",
   "id": "759f0ab3-053a-4a55-a43f-605e909846c2",
   "metadata": {},
   "source": [
    "# How to locate WebElements on the web page"
   ]
  },
  {
   "cell_type": "markdown",
   "id": "868611e3-d016-41de-bc10-b52cba454210",
   "metadata": {},
   "source": [
    "Selenium webdriver API provides two methods to find element(s) on a web page based on the locator strategy:\n",
    "1. Locating one element: **`driver.find_element(BY.LOCATOR_STRATEGY,\"value\")`**\n",
    "2. Locating multiple elements: **`driver.find_elements(BY.LOCATOR_STRATEGY,\"value\")`**\n",
    "\n",
    "**Difference between find_element and find_elements?**\n",
    "\n",
    "**`find_element()`**:\n",
    "* Used to access single web element on a web page\n",
    "* Returns first matching web element, if multiple web elements are located by the locator.\n",
    "* Throws `NoSuchElementException` if no matching web element is found.\n",
    "\n",
    "**`find_elements()`**:\n",
    "* Used to get a list of all matching web element on a web page\n",
    "* Returns list of matching web elements.\n",
    "* Returns an empty list if no matching web element is found.\n",
    "\n",
    "> **NOTE**:\n",
    "> 1. Both **`find_element()`** and **`find_elements()`**  traverse the HTML Document(DOM tree) in a TOP-DOWN manner for finding matching web elements.\n",
    "> 2. Both **`find_element()`** and **`find_element()`** returns an object of type (class) `WebElement` which contains a reference of the HTML element. By using this object, we can manipulate the HTML element.\n",
    "\n",
    "\n",
    "**EXAMPLES:**\n",
    "\n",
    "**SELECTORS**: id, name, link text (full & partial), classname\n",
    "\n",
    "```\n",
    "driver.find_element(By.NAME,\"email\")\n",
    "driver.find_element(By.ID,\"exampleInputPassword1\")\n",
    "driver.find_element(By.CLASS_NAME,\"group\")\n",
    "driver.find_element(By.LINK_TEXT,\"Forgot password?\")\n",
    "driver.find_element(By.PARTIAL_LINK_TEXT,\"Forgot\").\n",
    "\n",
    "```\n",
    "\n",
    "**CSS SELECTOR SYNTAX**: `tagName[attribute='value'] -> input[type='submit']`\n",
    "```\n",
    "driver.find_element(By.CSS_SELECTOR,\"input[name='name']\")\n",
    "driver.find_element(By.CSS_SELECTOR, \"form div:nth-child(2) input\")\n",
    "driver.find_element(By.CSS_SELECTOR, \"#confirmPassword\")\n",
    "```\n",
    "\n",
    "**XPATH SYNTAX**: `//tagName[@attribute='value'] -> //input[@type='submit']`\n",
    "```\n",
    "driver.find_element(By.XPATH,\"//input[@type='submit']\")\n",
    "driver.find_element(By.XPATH,\"(//input[@type='text'])[3]\")\n",
    "```\n",
    "\n",
    "**Fetching Attribute values**\n",
    "```\n",
    "print(driver.find_element(By.ID, \"autosuggest\").get_attribute(\"value\"))\n",
    "```"
   ]
  },
  {
   "cell_type": "markdown",
   "id": "ea282827-3073-497f-b7c6-534fcaeadfb0",
   "metadata": {},
   "source": [
    "# Locator Best Practices"
   ]
  },
  {
   "cell_type": "markdown",
   "id": "16c4672e-9c96-4462-9269-c1423fee6514",
   "metadata": {},
   "source": [
    "1. Use locator that uniquely identifies the web element. That is, the locator **must only** identify the web element we want.\n",
    "\n",
    "2. Robust locators in Selenium are as simple and small as possible.\n",
    "The more elements a locator contains, the higher the chances it’ll break because of the change in the page structure.\n",
    "\n",
    "3. Use unique attributes that doesn’t change frequently. Relying on frequently-changed attributes is never a good practice.\n"
   ]
  },
  {
   "cell_type": "markdown",
   "id": "54b572ca-517c-4d6c-b5c5-08d3a1475976",
   "metadata": {},
   "source": [
    "# **`selenium.webdriver.remote.webelement.WebElement`**"
   ]
  },
  {
   "cell_type": "markdown",
   "id": "bcd13090-acf6-43d3-aa75-b776b21ccaba",
   "metadata": {},
   "source": [
    "After we find a web element, we want to perform some operation on that web element such as click or find a sub-element, etc. To fulfill these requirements, selenium provides the **`WebElement`** class, which represents an **HTML element (DOM element)** and this class contains methods that allow to perform various operations on a web element or HTML element.\n",
    "\n",
    "**NOTE**:\n",
    "* All method calls will do a freshness check to ensure that the element reference is still valid.  \n",
    "* This essentially determines whether or not the element is still attached to the DOM. \n",
    "* If this test fails, then an **`StaleElementReferenceException`** is thrown, and all future calls to this instance will fail."
   ]
  },
  {
   "cell_type": "markdown",
   "id": "4d594796-c038-4df4-b8a6-5ce1268143d5",
   "metadata": {},
   "source": [
    "# **`WebElement`** methods"
   ]
  },
  {
   "cell_type": "markdown",
   "id": "1eae75a3-9b62-4819-8b48-8bb7662f02d7",
   "metadata": {},
   "source": [
    "* **`is_selected()`**: is_selected method is used to check if element is selected or not. It returns a boolean value True or False.\n",
    "* **`is_displayed()`**: is_displayed method is used to check if element it visible to user or not. It returns a boolean value True or False.\n",
    "* **`is_enabled()`**: is_enabled method is used to check if element is enabled or not. It returns a boolean value True or False.\n",
    "* **`get_property()`**: get_property method is used to get properties of an element, such as getting text_length property of anchor tag.\n",
    "* **`get_attribute()`**: get_attribute method is used to get attributes of an element, such as getting href attribute of anchor tag.\n",
    "* **`send_keys()`**: send_keys method is used to send text to any field, such as input field of a form or even to anchor tag paragraph, etc.\n",
    "* **`click()`**: click method is used to click on any element, such as an anchor tag, a link, etc.\n",
    "* **`clear()`**: clear method is used to clear text of any field, such as input field of a form or even to anchor tag paragraph, etc.\n",
    "* **`submit()`**: submit method is used to submit a form after you have sent data to a form.\n",
    "* **`text`**: text property is used to get text of current element."
   ]
  },
  {
   "cell_type": "code",
   "execution_count": null,
   "id": "54fa214d-dd4a-4897-8af8-0807a69da69b",
   "metadata": {},
   "outputs": [],
   "source": []
  }
 ],
 "metadata": {
  "kernelspec": {
   "display_name": "Python 3 (ipykernel)",
   "language": "python",
   "name": "python3"
  },
  "language_info": {
   "codemirror_mode": {
    "name": "ipython",
    "version": 3
   },
   "file_extension": ".py",
   "mimetype": "text/x-python",
   "name": "python",
   "nbconvert_exporter": "python",
   "pygments_lexer": "ipython3",
   "version": "3.12.5"
  }
 },
 "nbformat": 4,
 "nbformat_minor": 5
}
