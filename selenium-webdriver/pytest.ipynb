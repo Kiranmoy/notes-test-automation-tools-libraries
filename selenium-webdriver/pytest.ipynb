{
 "cells": [
  {
   "cell_type": "markdown",
   "id": "bbc83f29-a79c-4782-8a01-e69ba2161ef9",
   "metadata": {},
   "source": [
    "# Overview"
   ]
  },
  {
   "cell_type": "markdown",
   "id": "6e42f487-11d0-43b5-8c37-415c3b20d297",
   "metadata": {},
   "source": [
    "* Install pytest: `pip install pytest`\n",
    "* Check version: `pytest --version`\n",
    "* Naming convention to follow for pytest tests\n",
    "* Running pytest from the command line & pycharm\n",
    "* Running selected test files using pytest\n",
    "* Running selected test methods based on matching keywords\n",
    "* pytest tags mechanism to run tests based on functionality\n",
    "* Failing and skipping tests with annotations using pytest\n",
    "* What are the fixtures and importance of their Hooks in pytest\n",
    "* How fixture can be configured in the conftest file for better readability\n",
    "* Different scope of fixtures and their related annotations to set up pre- and post-conditions of the test\n",
    "* How parameterization can be achieved for tests with multiple sets of data\n",
    "* How to pass command line arguments into pytest tests\n",
    "* HTML report Generation for pytest execution:\n",
    "    * `pip install pytest-html`\n",
    "    * `pytest --html=report.html`"
   ]
  },
  {
   "cell_type": "markdown",
   "id": "59d97ed4-43d9-40ee-9562-d05343fdaa0f",
   "metadata": {},
   "source": [
    "# First script"
   ]
  },
  {
   "cell_type": "markdown",
   "id": "28694678-b86d-4baf-a1ff-c5d1db9169f2",
   "metadata": {},
   "source": [
    "* **pyTest** filename should starts with **`test_`** keyword\n",
    "* Test should always be in method/function\n",
    "* The **test method** should also starts with **`test_`** keyword\n",
    "\n",
    "```\n",
    "import pytest\n",
    "\n",
    "@pytest.mark.smoke\n",
    "@pytest.mark.xfail\n",
    "def test_method1():\n",
    "    print(\"test method 1\")\n",
    "\n",
    "\n",
    "def test_method2():\n",
    "    print(\"test method 2\")\n",
    "\n",
    "def test_method3():\n",
    "    print(\"test method 3\")\n",
    "\n",
    "\n",
    "def test_method4():\n",
    "    msg = \"Hello\"\n",
    "    assert msg == \"hi\", \"Test failed because condition string do not match\"\n",
    "\n",
    "```"
   ]
  },
  {
   "cell_type": "markdown",
   "id": "3a31e1ee-0767-46ad-b123-760d5b981bfd",
   "metadata": {},
   "source": [
    "# Running pytest tests from command line"
   ]
  },
  {
   "cell_type": "markdown",
   "id": "ff8815d1-1fd5-439f-a93f-52408e0ae5c4",
   "metadata": {},
   "source": [
    "* **`py.test`** -> runs all the tests recognized by pyest within the current path\n",
    "* **`py.test -v`** -> for more details of test execution (verbose)\n",
    "* **`py.test -s`** -> for printing console logs\n",
    "* **`py.test <tests_path>`** -> to run specific tests\n",
    "* **Run specific test file - `py.test section18-pytest/test_demo2.py`**\n",
    "* **Run specific test methods name using regular expression(`-k`): `py.test -k demo -v -s`**\n",
    "* **Grouping test using `@pytest.mark.smoke`: `py.test -m smoke -v -s`**\n",
    "* **Predefined tag for skipping tests: `@pytest.mark.skip`**\n",
    "* **Predefined tag to run known failure tests but avoid reporting it: `@pytest.mark.xfail`**"
   ]
  },
  {
   "cell_type": "markdown",
   "id": "18a5c7c9-75c7-444b-8922-6300ee12db32",
   "metadata": {},
   "source": [
    "# Fixture"
   ]
  },
  {
   "cell_type": "markdown",
   "id": "69bcbc84-7b81-4309-9187-6fde029b66af",
   "metadata": {},
   "source": [
    "* Fixtures are used for setup & teardown steps for test cases.\n",
    "* Pytest provides **`conftest.py`** file for declaring fixture globally.\n",
    "* Fixture defined in **`conftest.py`** file and will be by default available for all the pytest test files.\n",
    "\n",
    "**`conftest.py`**\n",
    "\n",
    "* Here the fixtures are defined as **method level**.\n",
    "* The `setup()` fixture will execute the setup & teardown step for each method it's applied to.\n",
    "\n",
    "```\n",
    "import pytest\n",
    "\n",
    "@pytest.fixture()\n",
    "def setup():\n",
    "    print(\"I will be executing first\")\n",
    "\n",
    "    yield  # post requisite steps (tear down)\n",
    "    print(\"I will be executing last\")\n",
    "\n",
    "```"
   ]
  },
  {
   "cell_type": "markdown",
   "id": "a28c5980-24a1-4e99-975c-89638cace99d",
   "metadata": {},
   "source": [
    "# Using fixtures in test class & methods"
   ]
  },
  {
   "cell_type": "markdown",
   "id": "29db8e8e-0598-40e9-933f-32739d021142",
   "metadata": {},
   "source": [
    "**`test_fixture_demo.py`**\n",
    "\n",
    "Here, `setup()` method fixture **scope** is set to **method level**, so it will run\n",
    "* Set up steps before executing each test method of the class it's applied to.\n",
    "* Tear-down steps (**yield keyword**) after each test method of the class it's applied to.\n",
    "\n",
    "```\n",
    "import pytest\n",
    "\n",
    "\n",
    "def test_fixturedemo0(setup):            ## Using setup() fixture at method level\n",
    "    print(\"fixture_demo_0\")\n",
    "\n",
    "def test_fixturedemo1(setup):            ## Using setup() fixture at method level\n",
    "    print(\"fixture_demo_1\")\n",
    "\n",
    "def test_fixturedemo2(setup):            ## Using setup() fixture at method level\n",
    "    print(\"fixture_demo_2\")\n",
    "\n",
    "def test_fixturedemo3(setup):            ## Using setup() fixture at method level\n",
    "    print(\"fixture_demo_3\")\n",
    "\n",
    "```"
   ]
  },
  {
   "cell_type": "markdown",
   "id": "3f9b5e79-1e76-46f3-9437-b833b3600c29",
   "metadata": {},
   "source": [
    "# Fixture scope"
   ]
  },
  {
   "cell_type": "markdown",
   "id": "3fb57ee2-1bbd-4df4-96f1-30f04c832866",
   "metadata": {},
   "source": [
    "**`conftest.py`**\n",
    "\n",
    "```\n",
    "import pytest\n",
    "\n",
    "@pytest.fixture(scope=\"class\")\n",
    "def setup():\n",
    "    print(\"I will be executing first\")\n",
    "\n",
    "    yield  # post requisite steps (tear down)\n",
    "    print(\"I will be executing last\")\n",
    "```\n",
    "\n",
    "**`test_fixture_scope.py`**\n",
    "\n",
    "* **This class uses the setup & tear down fixture - `setup()` method**. \n",
    "* Here, `setup()` method fixture **scope** is set to **class level**, so it will run\n",
    "    * Set up steps before executing any test method of the class it's applied to.\n",
    "    * Tear-down steps (**yield keyword**) after all test methods of the class it's applied to.\n",
    "\n",
    "```\n",
    "import pytest\n",
    "\n",
    "\n",
    "@pytest.mark.usefixtures(\"setup\")             ## Using fixture at class level\n",
    "class TestFixtureDemo():\n",
    "\n",
    "    def test_fixturedemo0(self):\n",
    "        print(\"fixture_demo_0\")\n",
    "\n",
    "    def test_fixturedemo1(self):\n",
    "        print(\"fixture_demo_1\")\n",
    "\n",
    "    def test_fixturedemo2(self):\n",
    "        print(\"fixture_demo_2\")\n",
    "\n",
    "    def test_fixturedemo3(self):\n",
    "        print(\"fixture_demo_3\")\n",
    "\n",
    "```"
   ]
  },
  {
   "cell_type": "markdown",
   "id": "be8e2e69-27e1-4e91-afb8-5ac7633f0e43",
   "metadata": {},
   "source": [
    "# Passing test data using fixture"
   ]
  },
  {
   "cell_type": "markdown",
   "id": "35c988d0-1a07-4cf1-8a62-236ff1d50430",
   "metadata": {},
   "source": [
    "\n",
    "\n",
    "**`conftest.py`**\n",
    "\n",
    "```\n",
    "@pytest.fixture()\n",
    "def data_load():\n",
    "    print(\"User profile data is being created\")\n",
    "    return [\"Kiranmoy\", \"Paul\", \"mrpaul@gmail.com\"]\n",
    "```\n",
    "\n",
    "**`test_fixture_data.py`**\n",
    "\n",
    "* This class uses the `data_load()` method fixture.\n",
    "*  Since this fixture is returning data, we need to pass the fixture name as an argument to the test method.\n",
    "\n",
    "\n",
    "```\n",
    "import pytest\n",
    "\n",
    "\n",
    "@pytest.mark.usefixtures(\"data_load\")         ## Using fixture at method level\n",
    "class TestFixtureDataDemo():\n",
    "\n",
    "    def test_editProfile(self, data_load):    ## Note passing of the fixture name as an argument to the test method.\n",
    "        print(data_load)\n",
    "        print(data_load[0])\n",
    "        print(data_load[1])\n",
    "        print(data_load[2])\n",
    "```"
   ]
  },
  {
   "cell_type": "markdown",
   "id": "1e283a91-9581-47bc-9d5b-491eb0896a5c",
   "metadata": {},
   "source": [
    "# Parameterizing test with multiple data using fixture"
   ]
  },
  {
   "cell_type": "markdown",
   "id": "cd0cd5fb-b808-4a8d-96c7-16f7027d378d",
   "metadata": {},
   "source": [
    "* Run the test with multiple parameters or data sets.\n",
    "* For example, run the test with multiple browsers.\n",
    "* Define **parameterized fixture** and pass the fixture name as an argument to the test method that we want to parameterize.\n",
    "\n",
    "**`conftest.py`**\n",
    "\n",
    "* Here, the fixture wii executes the test method for each parameter defined in 'params'.\n",
    "* The `request` variable will pass one parameter to the test method on every run.\n",
    "\n",
    "```\n",
    "@pytest.fixture(params=[(\"chrome\", \"Kiran\"), \"firefox\", \"ie\"])    ## Parameterized fixture\n",
    "def crossBrowser(request):\n",
    "    return request.param\n",
    "```\n",
    "\n",
    "**`test_cross_browser.py`**\n",
    "\n",
    "```\n",
    "def test_crossBrowser(crossBrowser):            ## Note passing of the fixture name as an argument to the test method.\n",
    "    print(crossBrowser)\n",
    "```\n"
   ]
  },
  {
   "cell_type": "markdown",
   "id": "abe2ef2c-62a1-43d7-a360-eb1603f40c00",
   "metadata": {},
   "source": [
    "# Generating HTML reports for pytest test cases"
   ]
  },
  {
   "cell_type": "markdown",
   "id": "2e6d2962-7440-44d0-a262-95201f63dc1c",
   "metadata": {},
   "source": [
    "* Install `pytest-html`: **`pip install pytest-html`**\n",
    "* To generate an HTML execution report, run the test with:  **`pytest --html=report.html`**"
   ]
  },
  {
   "cell_type": "code",
   "execution_count": null,
   "id": "bf6cd4c1-ecc4-43fe-ae7b-8dbec0efbd8f",
   "metadata": {},
   "outputs": [],
   "source": []
  }
 ],
 "metadata": {
  "kernelspec": {
   "display_name": "Python 3 (ipykernel)",
   "language": "python",
   "name": "python3"
  },
  "language_info": {
   "codemirror_mode": {
    "name": "ipython",
    "version": 3
   },
   "file_extension": ".py",
   "mimetype": "text/x-python",
   "name": "python",
   "nbconvert_exporter": "python",
   "pygments_lexer": "ipython3",
   "version": "3.12.5"
  }
 },
 "nbformat": 4,
 "nbformat_minor": 5
}
