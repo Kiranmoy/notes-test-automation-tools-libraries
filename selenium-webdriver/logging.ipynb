{
 "cells": [
  {
   "cell_type": "markdown",
   "id": "c135ecee-7c68-4395-a9c6-7d696f33103a",
   "metadata": {},
   "source": [
    "* Python provides **`logging`** class as part of standard library.\n",
    "* **LOG LEVELS**: DEBUG | INFO | WARNING | ERROR | CRITICAL\n",
    "* **FORMAT**: `date` `timestamp` : `LEVEL` : `test-case-name` : `log-message`\n",
    "\n",
    "**EXAMPLE**:\n",
    "```\n",
    "2025-02-11 02:15:13,321 : DEBUG : __main__ : debug statement\n",
    "2025-02-11 02:15:13,321 : INFO : __main__ : info statement\n",
    "2025-02-11 02:15:13,321 : WARNING : __main__ : warning statement\n",
    "2025-02-11 02:15:13,321 : ERROR : __main__ : error statement\n",
    "2025-02-11 02:15:13,321 : CRITICAL : __main__ : critical statement\n",
    "```"
   ]
  },
  {
   "cell_type": "markdown",
   "id": "79cd9755-7f18-49d7-9717-64e9799285f8",
   "metadata": {},
   "source": [
    "# Logging: FileHandler & ConsoleHandler"
   ]
  },
  {
   "cell_type": "markdown",
   "id": "f8b5d8dd-fdbc-49c1-bf79-3037de6a6ccb",
   "metadata": {},
   "source": [
    "```\n",
    "import logging\n",
    "\n",
    "# Logger\n",
    "logger = logging.getLogger(__name__)\n",
    "\n",
    "# what to print - log format\n",
    "logFormatter = logging.Formatter(\"%(asctime)s : %(levelname)s : %(name)s : %(message)s\")\n",
    "\n",
    "# where to print - log location: \n",
    "\n",
    "fileHandler = logging.FileHandler('logfile.log')          # logging to a file\n",
    "fileHandler.setFormatter(logFormatter)\n",
    "logger.addHandler(fileHandler)\n",
    "\n",
    "consoleHandler = logging.StreamHandler()                  # logging to console\n",
    "consoleHandler.setFormatter(logFormatter)\n",
    "logger.addHandler(consoleHandler)\n",
    "\n",
    "logger.setLevel(logging.DEBUG)\n",
    "\n",
    "logger.debug(\"debug statement\")\n",
    "logger.info(\"info statement\")\n",
    "logger.warning(\"warning statement\")\n",
    "logger.error(\"error statement\")\n",
    "logger.critical(\"critical statement\")\n",
    "\n",
    "```"
   ]
  },
  {
   "cell_type": "markdown",
   "id": "441ec115-0050-4d47-b43f-3494b102c1f7",
   "metadata": {},
   "source": [
    "# Generic reusable logger utility"
   ]
  },
  {
   "cell_type": "markdown",
   "id": "848d4a47-7063-48c3-ab38-560f826c412b",
   "metadata": {},
   "source": [
    "```\n",
    "import logging\n",
    "\n",
    "\n",
    "class base_class:\n",
    "    \n",
    "    def get_logger(self):\n",
    "\n",
    "        logger_name = inspect.stack()[1][3]            # Identify the calling method name\n",
    "        \n",
    "        # Logger\n",
    "        logger = logging.getLogger(logger_name)\n",
    "        \n",
    "        # what to print - log format\n",
    "        logFormatter = logging.Formatter(\"%(asctime)s : %(levelname)s : %(name)s : %(message)s\")\n",
    "        \n",
    "        # where to print - log location: \n",
    "        \n",
    "        fileHandler = logging.FileHandler('logfile.log')          # logging to a file\n",
    "        fileHandler.setFormatter(logFormatter)\n",
    "        logger.addHandler(fileHandler)\n",
    "        \n",
    "        consoleHandler = logging.StreamHandler()                  # logging to console\n",
    "        consoleHandler.setFormatter(logFormatter)\n",
    "        logger.addHandler(consoleHandler)\n",
    "        \n",
    "        logger.setLevel(logging.DEBUG)\n",
    "\n",
    "        return logger\n",
    "```"
   ]
  },
  {
   "cell_type": "markdown",
   "id": "c0b89657-e009-4f6a-9c10-2ad6ae551f1d",
   "metadata": {},
   "source": [
    "# Integrating logging to pytest-html report"
   ]
  },
  {
   "cell_type": "markdown",
   "id": "31b56415-dba3-49b2-bc19-0d7ca33f75f6",
   "metadata": {},
   "source": [
    "**NOTE**: `pytest-html` report by default captures standard logging level statements.\n",
    "\n",
    "**`conftest.py`**\n",
    "\n",
    "```\n",
    "import pytest\n",
    "\n",
    "@pytest.fixture(scope=\"class\")\n",
    "def setup():\n",
    "    print(\"I will be executing first\")\n",
    "\n",
    "    yield  # post requisite steps (tear down)\n",
    "    print(\"I will be executing last\")\n",
    "```\n",
    "\n",
    "**`test_fixture_scope.py`**\n",
    "\n",
    "```\n",
    "import pytest\n",
    "\n",
    "\n",
    "@pytest.mark.usefixtures(\"setup\")  \n",
    "class TestFixtureDemo(base_class):            # Inheriting base_class\n",
    "\n",
    "\n",
    "\n",
    "    def test_fixturedemo0(self):\n",
    "        log = get_logger()\n",
    "        log.info(\"fixture_demo_0\")\n",
    "\n",
    "    def test_fixturedemo1(self):\n",
    "        log = get_logger()\n",
    "        log.info(\"fixture_demo_1\")\n",
    "\n",
    "    def test_fixturedemo2(self):\n",
    "        log = get_logger()\n",
    "        log.info(\"fixture_demo_2\")\n",
    "\n",
    "    def test_fixturedemo3(self):\n",
    "        log = get_logger()\n",
    "        log.info(\"fixture_demo_3\")\n",
    "\n",
    "```\n",
    "\n",
    "Run the test with:  **`pytest --html=report.html`**"
   ]
  },
  {
   "cell_type": "code",
   "execution_count": null,
   "id": "e4fe1d64-a518-4642-a76a-65f057f0be87",
   "metadata": {},
   "outputs": [],
   "source": []
  }
 ],
 "metadata": {
  "kernelspec": {
   "display_name": "Python 3 (ipykernel)",
   "language": "python",
   "name": "python3"
  },
  "language_info": {
   "codemirror_mode": {
    "name": "ipython",
    "version": 3
   },
   "file_extension": ".py",
   "mimetype": "text/x-python",
   "name": "python",
   "nbconvert_exporter": "python",
   "pygments_lexer": "ipython3",
   "version": "3.12.5"
  }
 },
 "nbformat": 4,
 "nbformat_minor": 5
}
