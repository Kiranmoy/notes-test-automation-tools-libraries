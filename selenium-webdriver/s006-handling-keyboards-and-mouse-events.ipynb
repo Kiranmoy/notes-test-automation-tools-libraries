{
 "cells": [
  {
   "cell_type": "markdown",
   "id": "3ba782d9-6cb7-4178-9258-c34db2563d12",
   "metadata": {},
   "source": [
    "# Handling keyboards & mouse events"
   ]
  },
  {
   "cell_type": "markdown",
   "id": "b0752af2-fbb5-4f07-85a5-2ab9f56db796",
   "metadata": {},
   "source": [
    "We can handle mouse & keyboard operations using **`ActionChains`** class.\n",
    "\n",
    "ActionChains are a way to automate low-level interactions such as mouse movements, mouse button actions, key press, and context menu interactions. This is useful for doing more complex actions like hovering over, drag and drop, etc.\n",
    "\n",
    "**Example**:\n",
    "\n",
    "```\n",
    "from selenium.webdriver import ActionChains\n",
    "\n",
    "action = ActionChains(driver)\n",
    "action.move_to_element(driver.find_element(By.ID,\"mousehover\")).perform()\n",
    "action.context_click(driver.find_element(By.LINK_TEXT,\"Top\")).perform()\n",
    "```\n",
    "\n",
    "**Generate user actions**:\n",
    "* When you call methods for actions on the ActionChains object, the actions are stored in a queue in the ActionChains object. \n",
    "* When you call perform(), the events are fired in the order they are queued up.\n",
    "\n",
    "**`ActionChains` can be used in a chain pattern**:\n",
    "```\n",
    "menu = driver.find_element(By.CSS_SELECTOR, \".nav\")\n",
    "hidden_submenu = driver.find_element(By.CSS_SELECTOR, \".nav #submenu1\")\n",
    "\n",
    "ActionChains(driver).move_to_element(menu).click(hidden_submenu).perform()\n",
    "```\n",
    "\n",
    "**Or actions can be queued up one by one, then performed**:\n",
    "```\n",
    "menu = driver.find_element(By.CSS_SELECTOR, \".nav\")\n",
    "hidden_submenu = driver.find_element(By.CSS_SELECTOR, \".nav #submenu1\")\n",
    "\n",
    "actions = ActionChains(driver)\n",
    "actions.move_to_element(menu)\n",
    "actions.click(hidden_submenu)\n",
    "actions.perform()\n",
    "```\n",
    "\n",
    "Either way, the actions are performed in the order they are called, one after another."
   ]
  },
  {
   "cell_type": "markdown",
   "id": "d3e5b298-cfe4-4553-886a-714eff4004a5",
   "metadata": {},
   "source": [
    "# ActionChains methods"
   ]
  },
  {
   "cell_type": "markdown",
   "id": "bf84d5a1-bb45-4915-a91b-44e92e05a37e",
   "metadata": {},
   "source": [
    "**`click(on_element: WebElement)`**: Clicks an element.\n",
    "\n",
    "**`click_and_hold(on_element: WebElement)`**: Holds down the left mouse button on an element.\n",
    "\n",
    "**`context_click(on_element: WebElement)`**: Performs a context-click (right click) on an element.\n",
    "\n",
    "**`double_click(on_element: WebElement)`**: Double-clicks an element.\n",
    "\n",
    "**`drag_and_drop(source: WebElement, target: WebElement)`**: Holds down the left mouse button on the source element, then moves to the target element and releases the mouse button.\n",
    "\n",
    "**`drag_and_drop_by_offset(source: WebElement, xoffset: int, yoffset: int)`**: Holds down the left mouse button on the source element, then moves to the target offset and releases the mouse button.\n",
    "\n",
    "**`key_down(value: str, element: WebElement)`**: \n",
    "* Sends a key press only, without releasing it.\n",
    "* Should only be used with modifier keys (Control, Alt and Shift).\n",
    "* **Example, pressing ctrl+c:**: `ActionChains(driver).key_down(Keys.CONTROL).send_keys('c').key_up(Keys.CONTROL).perform()`\n",
    "\n",
    "**`key_up(value: str, element: WebElement)`**:\n",
    "* Releases a modifier key.\n",
    "* **Example, pressing ctrl+c:**: `ActionChains(driver).key_down(Keys.CONTROL).send_keys('c').key_up(Keys.CONTROL).perform()`\n",
    "\n",
    "**`move_by_offset(xoffset: int, yoffset: int)`**: Moving the mouse to an offset from current mouse position.\n",
    "\n",
    "**`move_to_element(to_element: WebElement)`**: Moving the mouse to the middle of an element.\n",
    "\n",
    "**`move_to_element_with_offset(to_element: WebElement, xoffset: int, yoffset: int)`**:\n",
    "* Move the mouse by an offset of the specified element.\n",
    "* Offsets are relative to the in-view center point of the element.\n",
    "\n",
    "**`pause(seconds: float | int)`**: Pause all inputs for the specified duration in seconds.\n",
    "\n",
    "**`perform()`**: Performs all stored actions.\n",
    "\n",
    "**`release(on_element: WebElement)`**: Releasing a held mouse button on an element.\n",
    "\n",
    "**`reset_actions()`**: Clears actions that are already stored locally and on the remote end.\n",
    "\n",
    "**`scroll_by_amount(delta_x: int, delta_y: int)`**: Scrolls by provided amounts with the origin in the top left corner of the viewport.\n",
    "\n",
    "**`scroll_from_origin(scroll_origin: ScrollOrigin, delta_x: int, delta_y: int)`**:\n",
    "* Scrolls by provided amount based on a provided origin.\n",
    "* The scroll origin is either the center of an element or the upper left of the viewport plus any offsets.\n",
    "* If the origin is an element, and the element is not in the viewport, the bottom of the element will first be scrolled to the bottom of the viewport.\n",
    "* **Raises**: `MoveTargetOutOfBoundsException` If the origin with offset is outside the viewport.\n",
    "\n",
    "**`scroll_to_element(element: WebElement)`**: If the element is outside the viewport, scrolls the bottom of the element to the bottom of the viewport.\n",
    "\n",
    "**`send_keys(*keys_to_send: str)`**: Sends keys to current focused element.\n",
    "\n",
    "**`send_keys_to_element(element: WebElement, *keys_to_send: str)`**: Sends keys to an element.\n",
    "\n"
   ]
  },
  {
   "cell_type": "code",
   "execution_count": null,
   "id": "85cfc8c9-9c82-45fb-8fab-82d6fd75433e",
   "metadata": {},
   "outputs": [],
   "source": []
  }
 ],
 "metadata": {
  "kernelspec": {
   "display_name": "Python 3 (ipykernel)",
   "language": "python",
   "name": "python3"
  },
  "language_info": {
   "codemirror_mode": {
    "name": "ipython",
    "version": 3
   },
   "file_extension": ".py",
   "mimetype": "text/x-python",
   "name": "python",
   "nbconvert_exporter": "python",
   "pygments_lexer": "ipython3",
   "version": "3.12.5"
  }
 },
 "nbformat": 4,
 "nbformat_minor": 5
}
