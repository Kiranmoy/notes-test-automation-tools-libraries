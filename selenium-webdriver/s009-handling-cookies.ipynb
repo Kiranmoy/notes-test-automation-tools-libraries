{
 "cells": [
  {
   "cell_type": "code",
   "execution_count": null,
   "id": "a703a852-9d1b-4dd8-ac25-4cc322a8b92b",
   "metadata": {},
   "outputs": [],
   "source": []
  }
 ],
 "metadata": {
  "kernelspec": {
   "display_name": "Python 3 (ipykernel)",
   "language": "python",
   "name": "python3"
  },
  "language_info": {
   "codemirror_mode": {
    "name": "ipython",
    "version": 3
   },
   "file_extension": ".py",
   "mimetype": "text/x-python",
   "name": "python",
   "nbconvert_exporter": "python",
   "pygments_lexer": "ipython3",
   "version": "3.12.5"
  }
 },
 "nbformat": 4,
 "nbformat_minor": 5
}
