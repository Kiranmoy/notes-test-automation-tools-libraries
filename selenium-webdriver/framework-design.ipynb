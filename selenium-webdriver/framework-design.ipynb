{
 "cells": [
  {
   "cell_type": "markdown",
   "id": "b34616ed-a618-460e-8e88-9b5204c87cfe",
   "metadata": {},
   "source": [
    "# Framework Overview"
   ]
  },
  {
   "cell_type": "markdown",
   "id": "4023acc9-de63-4d57-909f-b27a37fda9c7",
   "metadata": {},
   "source": [
    "**Framework Control Flow**: **`conftest.py`** >> **`Base`** class >> test class\n",
    "* Define setup & tear down in **`conftest.py`** for browser invocation and return an instance of **`webdriver`** to be used in **`Base`** class.\n",
    "* The **`Base`** class will be use the **`setup`** fixture defined in **`conftest.py`** to access the **`webdriver`** instance.\n",
    "* Also, define common utilites in **`Base`** class required for the test classed.\n",
    "* The test classes will inherit the **`Base`** class to access the **`webdriver`** instance and common utilities.\n",
    "* Add a pytest hook in **`conftest.py`** to handle command-line options for selecting the browser at run-time.\n",
    "* Implements Page Object design pattern.\n",
    "* Implements logging feature to tests\n",
    "* Test execution HTML reporting\n",
    "* Automatic screenshot capture on test failure\n",
    "* Integrating selenium python framework to Jenkins CI tools with build parameterization"
   ]
  },
  {
   "cell_type": "markdown",
   "id": "f294f163-1b1e-4287-bef4-ce64b3976e1e",
   "metadata": {},
   "source": [
    "# **`conftest.py`**"
   ]
  },
  {
   "cell_type": "markdown",
   "id": "f4c72146-e94a-4550-ae78-76d52f99c48a",
   "metadata": {},
   "source": [
    "```\n",
    "# pytest hook: to handle command-line option\n",
    "\n",
    "def pytest_addoption(parser):\n",
    "    parser.addoption(\n",
    "        \"--browser\", action=\"store\", default=\"chrome\"\n",
    "    )\n",
    "\n",
    "# fixture passing driver object to the test class\n",
    "\n",
    "@pytest.fixture(scope=\"class\")\n",
    "def setup(request):                     # pytest provides request parameter for handling runtime properties\n",
    "\n",
    "    browser = request.config.getoption(\"browser\")\n",
    "    if browser == 'firefox':\n",
    "        service_obj = Service(\"../resources/geckodriver.exe\")\n",
    "        driver = webdriver.Firefox(service=service_obj)\n",
    "    else:\n",
    "        service_obj = Service(\"../resources/chromedriver.exe\")\n",
    "        driver = webdriver.Chrome(service=service_obj)\n",
    "    driver.maximize_window()\n",
    "    driver.get(\"https://rahulshettyacademy.com/angularpractice/\")\n",
    "\n",
    "    # setting driver variable/property in request parameter\n",
    "    # now the method/class which will use this fixture will have access to this driver object\n",
    "    request.cls.driver = driver\n",
    "\n",
    "    yield\n",
    "    time.sleep(2)\n",
    "    driver.close()\n",
    "```"
   ]
  },
  {
   "cell_type": "markdown",
   "id": "d49f845d-3d50-4417-8cfa-7cb3499b83c1",
   "metadata": {},
   "source": [
    "# **`base.py`**"
   ]
  },
  {
   "cell_type": "markdown",
   "id": "9e7c7c09-6313-4fc7-a22e-e38f1788ef9d",
   "metadata": {},
   "source": [
    "```\n",
    "import pytest\n",
    "from selenium.webdriver.common.by import By\n",
    "from selenium.webdriver.support import expected_conditions\n",
    "from selenium.webdriver.support.wait import WebDriverWait\n",
    "\n",
    "\n",
    "@pytest.mark.usefixtures(\"setup\")\n",
    "class Base:\n",
    "\n",
    "    def verifyLinkPresence(self,text):\n",
    "        wait = WebDriverWait(self.driver, 10)       # using driver instance received from the setup fixture\n",
    "\n",
    "        wait.until(expected_conditions.presence_of_element_located((By.LINK_TEXT, text)))\n",
    "```"
   ]
  },
  {
   "cell_type": "markdown",
   "id": "574baff6-451f-4669-9c9f-b4b422d06463",
   "metadata": {},
   "source": [
    "# **`test.py`**"
   ]
  },
  {
   "cell_type": "markdown",
   "id": "05275aa2-6a5d-41c0-a1f7-655c6f075a5c",
   "metadata": {},
   "source": [
    "```\n",
    "import pytest\n",
    "from selenium.webdriver.common.by import By\n",
    "from selenium.webdriver.support import expected_conditions\n",
    "from selenium.webdriver.support.wait import WebDriverWait\n",
    "from utilities.BaseClass import BaseClass\n",
    "\n",
    "\n",
    "class TestOne(Base):\n",
    "    def test_e2e(self):\n",
    "\n",
    "        # setting local driver with webdriver instance inherited from the Base class which is coming from conftest.py\n",
    "        driver = self.driver\n",
    "\n",
    "        driver.find_element(By.CSS_SELECTOR, \"a[href*='shop']\").click()\n",
    "```"
   ]
  },
  {
   "cell_type": "markdown",
   "id": "901a2c8c-0f64-4dfb-b900-71452a269555",
   "metadata": {},
   "source": [
    "# Page Object pattern"
   ]
  },
  {
   "cell_type": "markdown",
   "id": "3129cb12-d0d2-4593-9067-4456e9750ef2",
   "metadata": {},
   "source": [
    "## **`home.py`**"
   ]
  },
  {
   "cell_type": "markdown",
   "id": "685760ee-9904-4e50-b298-908060c3a049",
   "metadata": {},
   "source": [
    "```\n",
    "from selenium.webdriver.common.by import By\n",
    "\n",
    "\n",
    "class Home:\n",
    "\n",
    "    def __init__(self, webdriver):\n",
    "        self.driver = webdriver\n",
    "\n",
    "    shop = (By.CSS_SELECTOR, \"a[href*='shop']\")\n",
    "\n",
    "    def shopItems(self):\n",
    "        return self.driver.find_element(*Home.shop) # * - for deserializing them from tuple\n",
    "\n",
    "```"
   ]
  },
  {
   "cell_type": "markdown",
   "id": "fe1d5d41-2f20-4e81-a90e-959feef192d6",
   "metadata": {},
   "source": [
    "## **`checkout.py`**"
   ]
  },
  {
   "cell_type": "markdown",
   "id": "dc2aee8b-c480-4a01-b2cf-9356ad46e92f",
   "metadata": {},
   "source": [
    "```\n",
    "from selenium.webdriver.common.by import By\n",
    "\n",
    "\n",
    "class Checkout:\n",
    "\n",
    "    def __init__(self, webdriver):\n",
    "        self.driver = webdriver\n",
    "\n",
    "    products = (By.CSS_SELECTOR, \".card-title a\")\n",
    "    add_product_button = (By.CSS_SELECTOR, \".card-footer button\")\n",
    "\n",
    "    def getAllProducts(self):\n",
    "        return self.driver.find_elements(*Checkout.products)\n",
    "\n",
    "    def getAllProductsButton(self):\n",
    "        return self.driver.find_elements(*Checkout.add_product_button)\n",
    "\n",
    "```"
   ]
  },
  {
   "cell_type": "markdown",
   "id": "df24f078-f574-4cdb-9c48-07bad217f364",
   "metadata": {},
   "source": [
    "## **`test.py`**"
   ]
  },
  {
   "cell_type": "markdown",
   "id": "169b5387-a814-444c-a660-5bebbb66ab9b",
   "metadata": {},
   "source": [
    "```\n",
    "import pytest\n",
    "from selenium.webdriver.common.by import By\n",
    "from utilities.BaseClass import BaseClass\n",
    "from pages.home import Home\n",
    "\n",
    "\n",
    "\n",
    "class TestTwo(BaseClass):\n",
    "    def test_form(self,getData):\n",
    "\n",
    "        # setting local driver with webdriver instance inherited from the Base class which is coming from conftest.py\n",
    "        driver = self.driver\n",
    "\n",
    "        # Using HOME page object model class\n",
    "        home = Home(driver)\n",
    "        driver.refresh()\n",
    "        driver.find_element(By.NAME, \"email\").send_keys(getData[2])\n",
    "        driver.find_element(By.ID, \"exampleInputPassword1\").send_keys(getData[1])\n",
    "        driver.find_element(By.ID, \"exampleCheck1\").click()\n",
    "\n",
    "\n",
    "    # Parameterizing webdriver tests with multiple data sets\n",
    "\n",
    "    @pytest.fixture(params=[(\"Kiranmoy\",\"13579\", \"kiran@gmail.com\"),(\"Paul\",\"24680\", \"paul@gmail.com\")])\n",
    "    def getData(self, request):\n",
    "        return request.param\n",
    "```"
   ]
  },
  {
   "cell_type": "code",
   "execution_count": null,
   "id": "719c0189-92dd-49b3-a460-699a609ce47d",
   "metadata": {},
   "outputs": [],
   "source": []
  }
 ],
 "metadata": {
  "kernelspec": {
   "display_name": "Python 3 (ipykernel)",
   "language": "python",
   "name": "python3"
  },
  "language_info": {
   "codemirror_mode": {
    "name": "ipython",
    "version": 3
   },
   "file_extension": ".py",
   "mimetype": "text/x-python",
   "name": "python",
   "nbconvert_exporter": "python",
   "pygments_lexer": "ipython3",
   "version": "3.12.5"
  }
 },
 "nbformat": 4,
 "nbformat_minor": 5
}
