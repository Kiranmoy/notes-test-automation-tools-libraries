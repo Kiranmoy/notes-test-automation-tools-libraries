{
 "cells": [
  {
   "cell_type": "markdown",
   "id": "49cfd53b-0267-4767-9ee9-ec04c6083a92",
   "metadata": {},
   "source": [
    "* CSS is used for styling of web pages, that is, it describes how HTML elements are to be displayed.\n",
    "* By using css selector, it selects an HTML element and provides a style definition for that element.\n",
    "* We’ll use the same css selector to uniquely identify web elements within a web page.\n",
    "\n",
    "**What is the need for CSS selector?**\n",
    "\n",
    "* Sometimes HTML elements don’t have `id`, `class`, or `name` attributes, or those attributes are **dynamically generated**. \n",
    "* So we cannot use these attributes to locate the element and using `tag-name` as a locator is not a reliable option.\n",
    "* For such kinds of situations, we need an advanced locator that is capable of locating complex web elements such as:\n",
    "    * web elements whose attributes are changed dynamically,\n",
    "    * web elements that are deeply nested, and\n",
    "    * web elements that don’t have `id`, `class`, or `name` attributes.\n",
    "\n",
    "Therefore by using css selector, we can locate such complex web elements easily.\n",
    "\n",
    "\n",
    "**Advantage of CSS selector** is that it can locate:\n",
    "* web elements whose attributes are changed dynamically.\n",
    "* web elements that are deeply nested.\n",
    "* web elements that don’t have `id`, `class`, or `name` attribute."
   ]
  },
  {
   "cell_type": "markdown",
   "id": "20406df6-f07b-4e84-9807-8aef1562040a",
   "metadata": {},
   "source": [
    "# Commonly used formats of CSS selector"
   ]
  },
  {
   "cell_type": "markdown",
   "id": "022ee9ea-66d1-49c5-aa27-6bdf7a0f2a49",
   "metadata": {},
   "source": [
    "`tag --------------------------> HTML tag`\n",
    "\n",
    "**ID**\n",
    "* `#id`\n",
    "* `tag#id`\n",
    "\n",
    "**CLASS**\n",
    "* `.class`\n",
    "* `.class1.class2`\n",
    "* `tag.class`\n",
    "\n",
    "**ATTRIBUTE**\n",
    "* `[attribute=’value’]`\n",
    "* `tag[attribute=’value’]`\n",
    "* `tag#id[attribute=’value’]`\n",
    "* `tag.class[attribute=’value’]`\n"
   ]
  },
  {
   "cell_type": "markdown",
   "id": "e2fe6380-6bab-4a10-ac20-0644784dcb20",
   "metadata": {},
   "source": [
    "# Sub-string matching"
   ]
  },
  {
   "cell_type": "markdown",
   "id": "cd70b75d-18e3-4665-a7b8-46b6dae0befd",
   "metadata": {},
   "source": [
    "**starts-with (`^`) – used for attribute values only**\n",
    "\n",
    "* `[attribute^=’prefix_of_the_value’]`\n",
    "* `tag[attribute^=’prefix_of_the_value’]`\n",
    "* `tag#id[attribute^=’prefix_of_the_value’]`\n",
    "* `tag.class[attribute^=’prefix_of_the_value’]`\n",
    "\n",
    "**ends-with (`$`)– used for attribute values only**\n",
    "\n",
    "* `[attribute$=’suffix_of_the_value’]`\n",
    "* `tag[attribute$=’suffix_of_the_value’]`\n",
    "* `tag#id[attribute$=’suffix_of_the_value’]`\n",
    "* `tag.class[attribute$=’suffix_of_the_value’]`\n",
    "\n",
    "**sub-string (`*`)– used for attribute values only**\n",
    "\n",
    "* `[attribute*=’sub_part_of_the_value’]`\n",
    "* `tag[attribute*=’sub_part_of_the_value’]`\n",
    "* `tag#id[attribute*=’sub_part_of_the_value’]`\n",
    "* `tag.class[attribute*=’sub_part_of_the_value’]`\n",
    "\n",
    "**sub-string using `contains()` method**\n",
    "\n",
    "* `tag:contains(attribute, ’sub_part_of_the_value’)`\n",
    "* `tag#id:contains(attribute, ’sub_part_of_the_value’)`\n",
    "* `tag.class:contains(attribute, ’sub_part_of_the_value’)`\n"
   ]
  },
  {
   "cell_type": "markdown",
   "id": "c773811d-3b2f-4a33-88ba-b92c11b6cd2a",
   "metadata": {},
   "source": [
    "# CSS selectors & pseudo classes"
   ]
  },
  {
   "cell_type": "markdown",
   "id": "683f9ec3-71b4-4378-814d-ac18b06945a3",
   "metadata": {},
   "source": [
    "**Child (element element)**\n",
    "\n",
    "`div p`: selects all `<p>` elements inside `<div>` elements.\n",
    "\n",
    "---\n",
    "\n",
    "**Direct/Immediate child (element `>` element)**\n",
    "\n",
    "`div > p`:\tSelects all `<p>` elements where the parent is a `<div>` Element.\n",
    "\n",
    "---\n",
    "\n",
    "**Adjacent/next element at the same level (element `+` element)**\n",
    "\n",
    "`div + p`:\tSelects all `<p>` elements that are placed immediately after `<div>` elements.\n",
    "\n",
    "---\n",
    "\n",
    "**Preceding Element (element `~` element)**\n",
    "\n",
    "`p ~ ul`:\tSelects all `<ul>` elements that are preceded by a `<p>` element within the same parent.\n",
    "\n",
    "---\n",
    "\n",
    "**`:first-child`**\n",
    "\n",
    "`p:first-child`:\tSelect `<p>` element that is the **first child** of its parent among the group of siblings.\n",
    "\n",
    "---\n",
    "\n",
    "**`:first-of-type`**\n",
    "\n",
    "`p:first-of-type`: Select `<p>` element that is the **first element of its type** `<p>` of its parent among a group of sibling elements.\n",
    "\n",
    "---\n",
    "\n",
    "**`:last-child`**\n",
    "\n",
    "`p:last-child`:\tSelect `<p>` element that is the **last-child** of its parent among the group of siblings.\n",
    "\n",
    "---\n",
    "\n",
    "**`:last-of-type`**\n",
    "\n",
    "`p:last-of-type`: Select `<p>` element that is the **last element of its type** `<p>` of its parent among a group of sibling elements.\n",
    "\n",
    "---\n",
    "\n",
    "**`:nth-child(n)`**\n",
    "\n",
    "`p:nth-child(2)`: Select `<p>` element that is the **second child** of its parent among the group of siblings.\n",
    "\n",
    "---\n",
    "\n",
    "**`:nth-last-child(n)`**\n",
    "\n",
    "`p:nth-last-child(2)`: Select `<p>` element that is the **second child** of its parent, counting from the last child.\n",
    "\n",
    "---\n",
    "\n",
    "**`:nth-last-of-type(n)`**\n",
    "\n",
    "`p:nth-last-of-type(2)`: Select every `<p>` element that is the **second element of its type** `<p>` of its parent, counting from the last child.\n",
    "\n",
    "---\n",
    "\n",
    "**`:nth-of-type(n)`**\n",
    "\n",
    "`p:nth-of-type(2)`:\tSelects `<p>` element that is the **second element of its type** `<p>` of its parent among the group of siblings.\n",
    "\n"
   ]
  },
  {
   "cell_type": "code",
   "execution_count": null,
   "id": "e11bcb56-5faf-4ba5-ad70-51f853886d5a",
   "metadata": {},
   "outputs": [],
   "source": []
  }
 ],
 "metadata": {
  "kernelspec": {
   "display_name": "Python 3 (ipykernel)",
   "language": "python",
   "name": "python3"
  },
  "language_info": {
   "codemirror_mode": {
    "name": "ipython",
    "version": 3
   },
   "file_extension": ".py",
   "mimetype": "text/x-python",
   "name": "python",
   "nbconvert_exporter": "python",
   "pygments_lexer": "ipython3",
   "version": "3.12.5"
  }
 },
 "nbformat": 4,
 "nbformat_minor": 5
}
