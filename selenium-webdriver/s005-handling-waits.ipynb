{
 "cells": [
  {
   "cell_type": "markdown",
   "id": "51452f42-7c00-41d6-8e05-62501617d9b7",
   "metadata": {},
   "source": [
    "Most web apps are using AJAX techniques. When a page is loaded by the browser, the elements within that page may load at different time intervals. This makes locating elements difficult, if an element is not yet present in the DOM, a locate function will raise an **`ElementNotVisibleException`**. Using **waits**, we can solve this issue and acheive synchronization. Waiting provides some slack between actions performed - mostly locating an element or any other operation with the element.\n",
    "\n",
    "Selenium Webdriver provides two types of waits - **implicit** & **explicit**. \n",
    "* An implicit wait makes WebDriver poll the DOM for a certain amount of time when trying to locate an element.\n",
    "* An explicit wait makes WebDriver wait for a certain condition to occur before proceeding further with execution.\n"
   ]
  },
  {
   "cell_type": "markdown",
   "id": "c839af65-d695-4f06-98f6-a48d3d33565a",
   "metadata": {},
   "source": [
    "# Implicit Waits"
   ]
  },
  {
   "cell_type": "markdown",
   "id": "3bf38eeb-8994-4329-979f-0c3837a4df90",
   "metadata": {},
   "source": [
    "An **implicit wait** tells **WebDriver** to poll the DOM for a certain amount of time when trying to find any element (or elements) not immediately available. That is, the driver should poll the DOM until the element has been found, or this timeout expires before throwing a **`NoSuchElementException`**. \n",
    "\n",
    "By default, the **implicit wait** is 0 seconds.\n",
    "\n",
    "Once set, the implicit wait is set for the rest of the life of the **WebDriver** object instance from that point in the program to the end.\n",
    "\n",
    "**Example**:\n",
    "```\n",
    "driver.implicitly_wait(5)  # 5 seconds\n",
    "```\n",
    "* Define max wait time for locating elements.\n",
    "* For example: implicit wait is 5 seconds, but element is located in 2 seconds then it will not wait anymore (save 3 seconds).\n",
    "* **Important note:** implicit wait not applicable for **`find_elements()`**, if elements not located, it returns [] - doesn't wait implicitly.\n"
   ]
  },
  {
   "cell_type": "markdown",
   "id": "d40e2fa1-1ac5-4bf4-862d-988e9d8a31db",
   "metadata": {},
   "source": [
    "# Explicit Waits"
   ]
  },
  {
   "cell_type": "markdown",
   "id": "6fa02366-8a2b-4956-8299-9f4e7ba7dd9b",
   "metadata": {},
   "source": [
    "Explicit wait is used to tell the web driver to wait for\n",
    "* Certain conditions (**`expected_conditions`**) to be true, or\n",
    "* Maximum timeout exceeds\n",
    "Before throwing **`TimeoutException`**, if no element is found within that time.\n",
    "\n",
    "**`WebDriverWait`** by default calls the **`expected_conditions`** every **500 milliseconds** until the condition is true or maximum timeout expires. That is, the driver should poll the page until the expected condition is true or the maximum timeout has expired.\n",
    "\n",
    "It is an intelligent wait and is **applied to specific elements**.\n",
    "\n",
    "It gives better options than implicit wait as it waits for dynamically loaded Ajax elements.\n",
    "\n",
    "> **NOTE**: Explicit waits are done using the **WebDriverWait** and **expected_conditions** classes.\n",
    "\n",
    "**Example**:\n",
    "```\n",
    "from selenium.webdriver.support.wait import WebDriverWait\n",
    "from selenium.webdriver.support import expected_conditions as ec\n",
    "\n",
    "wait = WebDriverWait(driver,10)\n",
    "wait.until(ec.presence_of_element_located((By.CSS_SELECTOR,\".promoInfo\")))\n",
    "```\n",
    "\n",
    "**When should we use explicit waits?**\n",
    "* We would normally use explicit wait if an element takes a long time to load.\n",
    "* We also used explicit wait to check the CSS property of an element (presence, clickability. etc) which can change in Ajax applications.\n"
   ]
  },
  {
   "cell_type": "markdown",
   "id": "3e0fd89d-e1e4-4563-bd82-801f5a30f358",
   "metadata": {},
   "source": [
    "# Expected Conditions"
   ]
  },
  {
   "cell_type": "markdown",
   "id": "1ee24e24-1bd8-4740-932b-654d9e542971",
   "metadata": {},
   "source": [
    "Some common conditions provided by **Selenium Python bindings** that are frequently of use when automating web browsers.\n",
    "\n",
    "```\n",
    "title_is\n",
    "title_contains\n",
    "presence_of_element_located\n",
    "visibility_of_element_located\n",
    "visibility_of\n",
    "presence_of_all_elements_located\n",
    "text_to_be_present_in_element\n",
    "text_to_be_present_in_element_value\n",
    "frame_to_be_available_and_switch_to_it\n",
    "invisibility_of_element_located\n",
    "element_to_be_clickable\n",
    "staleness_of\n",
    "element_to_be_selected\n",
    "element_located_to_be_selected\n",
    "element_selection_state_to_be\n",
    "element_located_selection_state_to_be\n",
    "alert_is_present\n",
    "```\n",
    "\n",
    "**Example**:\n",
    "```\n",
    "from selenium.webdriver.support import expected_conditions as EC\n",
    "\n",
    "wait = WebDriverWait(driver, 10)\n",
    "element = wait.until(EC.element_to_be_clickable((By.ID, 'someid')))\n",
    "```\n",
    "\n",
    "The **`expected_conditions`** module contains a set of predefined conditions to use with **`WebDriverWait`**."
   ]
  },
  {
   "cell_type": "markdown",
   "id": "62826b95-ea05-40d6-ad93-7e1187e4cb1c",
   "metadata": {},
   "source": [
    "# Custom Wait Conditions"
   ]
  },
  {
   "cell_type": "markdown",
   "id": "39adf3c1-626c-4d86-9cc0-95b2590fad42",
   "metadata": {},
   "source": [
    "* You can also create custom wait conditions when none of the previous convenience methods fit your requirements. \n",
    "* A custom wait condition can be created using a class with **`__call__`** method which returns `False` when the condition doesn’t match."
   ]
  },
  {
   "cell_type": "code",
   "execution_count": 1,
   "id": "02212e61-9faa-434f-9482-21fec7e554c2",
   "metadata": {},
   "outputs": [],
   "source": [
    "class element_has_css_class(object):\n",
    "  \"\"\"An expectation for checking that an element has a particular css class.\n",
    "\n",
    "  locator - used to find the element\n",
    "  returns the WebElement once it has the particular css class\n",
    "  \"\"\"\n",
    "  def __init__(self, locator, css_class):\n",
    "    self.locator = locator\n",
    "    self.css_class = css_class\n",
    "\n",
    "  def __call__(self, driver):\n",
    "    element = driver.find_element(*self.locator)   # Finding the referenced element\n",
    "    if self.css_class in element.get_attribute(\"class\"):\n",
    "        return element\n",
    "    else:\n",
    "        return False"
   ]
  },
  {
   "cell_type": "markdown",
   "id": "a2ae599b-61ac-44a9-adbf-ce6a6e39b297",
   "metadata": {},
   "source": [
    "```\n",
    "# Wait until an element with id='myNewInput' has class 'myCSSClass'\n",
    "wait = WebDriverWait(driver, 10)\n",
    "element = wait.until(element_has_css_class((By.ID, 'myNewInput'), \"myCSSClass\"))\n",
    "```"
   ]
  },
  {
   "cell_type": "markdown",
   "id": "df1bee54-c2b7-4673-a9b9-3252c36aa76e",
   "metadata": {},
   "source": [
    "> **NOTE**: \n",
    "> * **`polling2` Library**\n",
    "> * You may also consider using **[polling2](https://polling2.readthedocs.io/en/latest/examples.html#polling-for-selenium-webdriver-elements)** library which you need to install separately."
   ]
  },
  {
   "cell_type": "code",
   "execution_count": null,
   "id": "b3e47384-105b-47a5-bf0e-8c92f1697234",
   "metadata": {},
   "outputs": [],
   "source": []
  }
 ],
 "metadata": {
  "kernelspec": {
   "display_name": "Python 3 (ipykernel)",
   "language": "python",
   "name": "python3"
  },
  "language_info": {
   "codemirror_mode": {
    "name": "ipython",
    "version": 3
   },
   "file_extension": ".py",
   "mimetype": "text/x-python",
   "name": "python",
   "nbconvert_exporter": "python",
   "pygments_lexer": "ipython3",
   "version": "3.12.5"
  }
 },
 "nbformat": 4,
 "nbformat_minor": 5
}
