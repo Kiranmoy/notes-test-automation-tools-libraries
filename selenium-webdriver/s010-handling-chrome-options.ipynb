{
 "cells": [
  {
   "cell_type": "markdown",
   "id": "2a23c47e-3976-46a0-b04b-9f0264bea25b",
   "metadata": {},
   "source": [
    "**`ChromeOptions`** class allows to set or configure the behavior of chrome browser.\n",
    "\n",
    "```\n",
    "import time\n",
    "\n",
    "from selenium import webdriver\n",
    "from selenium.webdriver.chrome.service import Service\n",
    "\n",
    "service_obj = Service(\"../resources/chromedriver.exe\")\n",
    "\n",
    "# ChromeOptions\n",
    "chrome_options = webdriver.ChromeOptions()\n",
    "\n",
    "# start the browser in maximized mode\n",
    "chrome_options.add_argument(\"--start-maximized\")\n",
    "\n",
    "# headless execution configuration         \n",
    "chrome_options.add_argument(\"headless\")\n",
    "\n",
    "# disable SSL certificate checks             \n",
    "chrome_options.add_argument(\"--ignore-certificate-errors\")\n",
    "\n",
    "driver = webdriver.Chrome(service=service_obj, options=chrome_options)\n",
    "\n",
    "driver.implicitly_wait(5)  # 5 seconds\n",
    "\n",
    "driver.maximize_window()\n",
    "driver.get(\"https://rahulshettyacademy.com/AutomationPractice\")\n",
    "\n",
    "time.sleep(2)\n",
    "\n",
    "driver.execute_script(\"window.scrollBy(0,document.body.scrollHeight);\")\n",
    "\n",
    "# take screenshot\n",
    "driver.get_screenshot_as_file(\"headless-mode-screenshot.png\")\n",
    "\n",
    "driver.close()\n",
    "driver.quit()\n",
    "```"
   ]
  },
  {
   "cell_type": "code",
   "execution_count": null,
   "id": "373db872-56a8-4f44-bced-8cfe1a804785",
   "metadata": {},
   "outputs": [],
   "source": []
  }
 ],
 "metadata": {
  "kernelspec": {
   "display_name": "Python 3 (ipykernel)",
   "language": "python",
   "name": "python3"
  },
  "language_info": {
   "codemirror_mode": {
    "name": "ipython",
    "version": 3
   },
   "file_extension": ".py",
   "mimetype": "text/x-python",
   "name": "python",
   "nbconvert_exporter": "python",
   "pygments_lexer": "ipython3",
   "version": "3.12.5"
  }
 },
 "nbformat": 4,
 "nbformat_minor": 5
}
