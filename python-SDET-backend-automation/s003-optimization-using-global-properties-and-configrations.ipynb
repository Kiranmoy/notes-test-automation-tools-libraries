{
 "cells": [
  {
   "cell_type": "markdown",
   "id": "13d90846-9cca-40ff-8506-d75c035adc35",
   "metadata": {},
   "source": [
    "# Install requests library"
   ]
  },
  {
   "cell_type": "code",
   "execution_count": 5,
   "id": "fdb7450e-1c6a-4d35-bf19-fa5be100f15c",
   "metadata": {},
   "outputs": [
    {
     "name": "stdout",
     "output_type": "stream",
     "text": [
      "Requirement already satisfied: requests in c:\\users\\kiranmoy_paul\\appdata\\roaming\\jupyterlab-desktop\\jlab_server\\lib\\site-packages (2.32.3)\n",
      "Requirement already satisfied: charset-normalizer<4,>=2 in c:\\users\\kiranmoy_paul\\appdata\\roaming\\jupyterlab-desktop\\jlab_server\\lib\\site-packages (from requests) (3.3.2)\n",
      "Requirement already satisfied: idna<4,>=2.5 in c:\\users\\kiranmoy_paul\\appdata\\roaming\\jupyterlab-desktop\\jlab_server\\lib\\site-packages (from requests) (3.8)\n",
      "Requirement already satisfied: urllib3<3,>=1.21.1 in c:\\users\\kiranmoy_paul\\appdata\\roaming\\jupyterlab-desktop\\jlab_server\\lib\\site-packages (from requests) (2.2.2)\n",
      "Requirement already satisfied: certifi>=2017.4.17 in c:\\users\\kiranmoy_paul\\appdata\\roaming\\jupyterlab-desktop\\jlab_server\\lib\\site-packages (from requests) (2024.7.4)\n"
     ]
    }
   ],
   "source": [
    "!pip3 install requests"
   ]
  },
  {
   "cell_type": "markdown",
   "id": "8fba8385-e906-46a1-a0db-2d24765b2dcd",
   "metadata": {},
   "source": [
    "# properties.ini"
   ]
  },
  {
   "cell_type": "markdown",
   "id": "b4c0e384-8e7a-4025-be15-00e91f016a69",
   "metadata": {},
   "source": [
    "```ini\n",
    "[API]\n",
    "host=http://rahulshettyacademy.com\n",
    "\n",
    "[SQL]\n",
    "\n",
    "\n",
    "\n",
    "[SSH]\n",
    "\n",
    "\n",
    "```"
   ]
  },
  {
   "cell_type": "markdown",
   "id": "93a7db28-2463-474f-9612-1ff5831bce1b",
   "metadata": {},
   "source": [
    "# configurations.py"
   ]
  },
  {
   "cell_type": "code",
   "execution_count": 2,
   "id": "a99ef5bd-d6a8-4bd0-a646-960495509e43",
   "metadata": {},
   "outputs": [],
   "source": [
    "import configparser\n",
    "\n",
    "\n",
    "def getConfig():\n",
    "    # read global properties\n",
    "    config = configparser.ConfigParser()\n",
    "    config.read(\"properties.ini\")\n",
    "    return config"
   ]
  },
  {
   "cell_type": "markdown",
   "id": "98eb2eb6-1ea0-468e-ad09-05b2aac940af",
   "metadata": {},
   "source": [
    "# apiresources.py"
   ]
  },
  {
   "cell_type": "code",
   "execution_count": 3,
   "id": "9a6694cf-c899-45fa-bbf5-7ffee174a69a",
   "metadata": {},
   "outputs": [],
   "source": [
    "class APIResources:\n",
    "    add_book = \"/Library/Addbook.php\"\n",
    "    get_book = \"/Library/GetBook.php\"\n",
    "    delete_book = \"/Library/Del eteBook.php\""
   ]
  },
  {
   "cell_type": "markdown",
   "id": "a3431a8a-7f05-4b4d-aa02-8b6325a795d7",
   "metadata": {},
   "source": [
    "# Optimized POST requests - managing configuration using properties file & external classes"
   ]
  },
  {
   "cell_type": "markdown",
   "id": "ee2743ac-2f4e-43d8-9a15-2c0023485c9c",
   "metadata": {},
   "source": [
    "```python\n",
    "import requests\n",
    "import configurations\n",
    "from apiresources import APIResources\n",
    "\n",
    "payload = {\n",
    "    \"name\": \"Learn Appium Automation with Java\",\n",
    "    \"isbn\": \"bcd\",\n",
    "    \"aisle\": \"227\",\n",
    "    \"author\": \"John foe\"\n",
    "}\n",
    "\n",
    "req_headers = {\n",
    "    \"Content-Type\": \"application/json\"\n",
    "}\n",
    "\n",
    "# fetch configuration detaisl\n",
    "config = configurations.getConfig()\n",
    "\n",
    "URL = \"{}{}\".format(config[\"API\"][\"host\"],APIResources.add_book)\n",
    "\n",
    "response = requests.post(url=URL, json=payload, headers=req_headers)\n",
    "print(response.status_code)\n",
    "```\n",
    "\n",
    "OUTPUT:\n",
    "\n",
    "200"
   ]
  },
  {
   "cell_type": "code",
   "execution_count": null,
   "id": "4dfec0a8-5df0-4a9a-8ba3-64635601bc9c",
   "metadata": {},
   "outputs": [],
   "source": []
  }
 ],
 "metadata": {
  "kernelspec": {
   "display_name": "Python 3 (ipykernel)",
   "language": "python",
   "name": "python3"
  },
  "language_info": {
   "codemirror_mode": {
    "name": "ipython",
    "version": 3
   },
   "file_extension": ".py",
   "mimetype": "text/x-python",
   "name": "python",
   "nbconvert_exporter": "python",
   "pygments_lexer": "ipython3",
   "version": "3.12.5"
  }
 },
 "nbformat": 4,
 "nbformat_minor": 5
}
