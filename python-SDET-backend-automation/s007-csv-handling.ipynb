{
 "cells": [
  {
   "cell_type": "markdown",
   "id": "22911897-76a9-420f-a5d9-2c31b97f32d7",
   "metadata": {},
   "source": [
    "# loanapp.csv"
   ]
  },
  {
   "cell_type": "markdown",
   "id": "eb1ad593-60c6-4fb1-98be-6f0c23a28acd",
   "metadata": {},
   "source": [
    "```csv\n",
    "Name,Status\n",
    "Tim,approved\n",
    "Sam,rejected\n",
    "Ram,approved\n",
    "Joe,rejected\n",
    "Jim,approved\n",
    "```"
   ]
  },
  {
   "cell_type": "markdown",
   "id": "654d3032-def9-4c88-8e2d-4a0981ac48b9",
   "metadata": {},
   "source": [
    "# Read CSV file"
   ]
  },
  {
   "cell_type": "code",
   "execution_count": 24,
   "id": "e6d3ee70-d75a-4b3f-a67c-0ea0554c9356",
   "metadata": {},
   "outputs": [
    {
     "name": "stdout",
     "output_type": "stream",
     "text": [
      "[['Name', 'Status'], ['Tim', 'approved'], ['Sam', 'rejected'], ['Ram', 'approved'], ['Joe', 'rejected'], ['Jim', 'approved']]\n",
      "ROWS:\n",
      "['Name', 'Status']\n",
      "['Tim', 'approved']\n",
      "['Sam', 'rejected']\n",
      "['Ram', 'approved']\n",
      "['Joe', 'rejected']\n",
      "['Jim', 'approved']\n",
      "NAMES: ['Name', 'Tim', 'Sam', 'Ram', 'Joe', 'Jim']\n",
      "STATS: ['Status', 'approved', 'rejected', 'approved', 'rejected', 'approved']\n"
     ]
    }
   ],
   "source": [
    "import csv\n",
    "\n",
    "with open(\"loanapp.csv\") as csv_file:\n",
    "    # csv.reader() method will read entire file content, including the first line.\n",
    "    csv_reader = csv.reader(csv_file, delimiter=\",\")\n",
    "    csv_rows = list(csv_reader)\n",
    "    print(csv_rows)\n",
    "\n",
    "    names = []\n",
    "    stats = []\n",
    "    print(\"ROWS:\")\n",
    "    for row in csv_rows:\n",
    "        print(row)\n",
    "        names.append(row[0])\n",
    "        stats.append(row[1])\n",
    "\n",
    "    print(\"NAMES: {}\".format(names))\n",
    "    print(\"STATS: {}\".format(stats))"
   ]
  },
  {
   "cell_type": "markdown",
   "id": "7bff4cd1-969e-47e9-a286-9ca278ac9b18",
   "metadata": {},
   "source": [
    "# Write CSV file"
   ]
  },
  {
   "cell_type": "code",
   "execution_count": 25,
   "id": "321f1ec2-7f3e-41eb-8c56-d7bc50640a2e",
   "metadata": {},
   "outputs": [
    {
     "name": "stdout",
     "output_type": "stream",
     "text": [
      "[['Name', 'Status'], ['Tim', 'approved'], ['Sam', 'rejected'], ['Ram', 'approved'], ['Joe', 'rejected'], ['Jim', 'approved'], ['Kiran', 'rejected']]\n",
      "[['Name', 'Status'], ['Tim', 'approved'], ['Sam', 'rejected'], ['Ram', 'approved'], ['Joe', 'rejected'], ['Jim', 'approved']]\n"
     ]
    }
   ],
   "source": [
    "import csv\n",
    "\n",
    "# Notice newline='' which is used to prevent adding extra newline as writerow() or writerows() already add newline\n",
    "with open(\"loanapp.csv\", \"a\", newline='') as csv_file:\n",
    "    write_csv = csv.writer(csv_file)\n",
    "    # writerow() method takes a list as input.\n",
    "    write_csv.writerow([\"Kiran\", \"rejected\"])\n",
    "\n",
    "with open(\"loanapp.csv\") as csv_file:\n",
    "    csv_reader = csv.reader(csv_file, delimiter=\",\")\n",
    "    csv_rows = list(csv_reader)\n",
    "    print(csv_rows)\n",
    "\n",
    "############### RESETTING #########################\n",
    "\n",
    "data = [['Name', 'Status'],['Tim', 'approved'],['Sam', 'rejected'], ['Ram', 'approved'], ['Joe', 'rejected'], ['Jim', 'approved']]\n",
    "\n",
    "# Notice newline='' which is used to prevent adding extra newline as writerow() or writerows() already add newline\n",
    "with open(\"loanapp.csv\", \"w\", newline='') as csv_file:\n",
    "    write_csv = csv.writer(csv_file, )\n",
    "    write_csv.writerows(data)\n",
    "\n",
    "with open(\"loanapp.csv\") as csv_file:\n",
    "    csv_reader = csv.reader(csv_file, delimiter=\",\")\n",
    "    csv_rows = list(csv_reader)\n",
    "    print(csv_rows)"
   ]
  },
  {
   "cell_type": "code",
   "execution_count": null,
   "id": "40c373e4-c9c1-48a0-9049-7229ccd3a680",
   "metadata": {},
   "outputs": [],
   "source": []
  },
  {
   "cell_type": "code",
   "execution_count": null,
   "id": "6ec42f48-f33a-40b9-876e-081fad8e7a31",
   "metadata": {},
   "outputs": [],
   "source": []
  }
 ],
 "metadata": {
  "kernelspec": {
   "display_name": "Python 3 (ipykernel)",
   "language": "python",
   "name": "python3"
  },
  "language_info": {
   "codemirror_mode": {
    "name": "ipython",
    "version": 3
   },
   "file_extension": ".py",
   "mimetype": "text/x-python",
   "name": "python",
   "nbconvert_exporter": "python",
   "pygments_lexer": "ipython3",
   "version": "3.12.5"
  }
 },
 "nbformat": 4,
 "nbformat_minor": 5
}
