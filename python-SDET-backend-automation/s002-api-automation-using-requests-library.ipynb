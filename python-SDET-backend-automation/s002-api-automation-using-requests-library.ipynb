{
 "cells": [
  {
   "cell_type": "markdown",
   "id": "5373d5e8-596b-42b2-a1dd-049855344139",
   "metadata": {},
   "source": [
    "# Install requests library"
   ]
  },
  {
   "cell_type": "code",
   "execution_count": 5,
   "id": "4a234093-6bed-46c5-8962-f03c0f8bb50b",
   "metadata": {},
   "outputs": [
    {
     "name": "stdout",
     "output_type": "stream",
     "text": [
      "Requirement already satisfied: requests in c:\\users\\kiranmoy_paul\\appdata\\roaming\\jupyterlab-desktop\\jlab_server\\lib\\site-packages (2.32.3)\n",
      "Requirement already satisfied: charset-normalizer<4,>=2 in c:\\users\\kiranmoy_paul\\appdata\\roaming\\jupyterlab-desktop\\jlab_server\\lib\\site-packages (from requests) (3.3.2)\n",
      "Requirement already satisfied: idna<4,>=2.5 in c:\\users\\kiranmoy_paul\\appdata\\roaming\\jupyterlab-desktop\\jlab_server\\lib\\site-packages (from requests) (3.8)\n",
      "Requirement already satisfied: urllib3<3,>=1.21.1 in c:\\users\\kiranmoy_paul\\appdata\\roaming\\jupyterlab-desktop\\jlab_server\\lib\\site-packages (from requests) (2.2.2)\n",
      "Requirement already satisfied: certifi>=2017.4.17 in c:\\users\\kiranmoy_paul\\appdata\\roaming\\jupyterlab-desktop\\jlab_server\\lib\\site-packages (from requests) (2024.7.4)\n"
     ]
    }
   ],
   "source": [
    "!pip3 install requests"
   ]
  },
  {
   "cell_type": "markdown",
   "id": "32e33183-e1b7-417b-bce1-d41f90304e09",
   "metadata": {},
   "source": [
    "# GET request"
   ]
  },
  {
   "cell_type": "code",
   "execution_count": 6,
   "id": "d02eb0db-7b08-4ece-8cf3-30c04820de37",
   "metadata": {},
   "outputs": [
    {
     "name": "stdout",
     "output_type": "stream",
     "text": [
      "<class 'str'>\n",
      "[{\"book_name\":\"Devops\",\"isbn\":\"bnid341\",\"aisle\":\"75\"},{\"book_name\":\"Learn Appium Automation with Java\",\"isbn\":\"bcda\",\"aisle\":\"224\"},{\"book_name\":\"Python Book\",\"isbn\":\"abc\",\"aisle\":\"22\"},{\"book_name\":\"PHP Book\",\"isbn\":\"abcwe\",\"aisle\":\"222\"},{\"book_name\":\"Learn Appium Automation with Java\",\"isbn\":\"abcde\",\"aisle\":\"1908\"},{\"book_name\":\"Selenium2\",\"isbn\":\"987658\",\"aisle\":\"2529857\"}]\n",
      "\n",
      "approach 1: convert json response string to dictionary using json library\n",
      "<class 'list'>\n",
      "[{'book_name': 'Devops', 'isbn': 'bnid341', 'aisle': '75'}, {'book_name': 'Learn Appium Automation with Java', 'isbn': 'bcda', 'aisle': '224'}, {'book_name': 'Python Book', 'isbn': 'abc', 'aisle': '22'}, {'book_name': 'PHP Book', 'isbn': 'abcwe', 'aisle': '222'}, {'book_name': 'Learn Appium Automation with Java', 'isbn': 'abcde', 'aisle': '1908'}, {'book_name': 'Selenium2', 'isbn': '987658', 'aisle': '2529857'}]\n",
      "bnid341\n",
      "\n",
      "approach 2: request library provides json() method which returns the response as json object (dict)\n",
      "<class 'list'>\n",
      "[{'book_name': 'Devops', 'isbn': 'bnid341', 'aisle': '75'}, {'book_name': 'Learn Appium Automation with Java', 'isbn': 'bcda', 'aisle': '224'}, {'book_name': 'Python Book', 'isbn': 'abc', 'aisle': '22'}, {'book_name': 'PHP Book', 'isbn': 'abcwe', 'aisle': '222'}, {'book_name': 'Learn Appium Automation with Java', 'isbn': 'abcde', 'aisle': '1908'}, {'book_name': 'Selenium2', 'isbn': '987658', 'aisle': '2529857'}]\n",
      "bnid341\n",
      "\n",
      "Headers\n",
      "<class 'requests.structures.CaseInsensitiveDict'>\n",
      "{'Date': 'Sun, 16 Mar 2025 07:59:08 GMT', 'Server': 'Apache/2.4.52 (Ubuntu)', 'Access-Control-Allow-Origin': '*', 'Access-Control-Allow-Methods': 'POST', 'Access-Control-Max-Age': '3600', 'Access-Control-Allow-Headers': 'Content-Type, Access-Control-Allow-Headers, Authorization, X-Requested-With', 'Content-Length': '380', 'Keep-Alive': 'timeout=5, max=100', 'Connection': 'Keep-Alive', 'Content-Type': 'application/json;charset=UTF-8'}\n"
     ]
    }
   ],
   "source": [
    "import requests\n",
    "import json\n",
    "\n",
    "# http://rahulshettyacademy.com/Library/GetBook.php?AuthorName=Rahul Shetty (USE THIS FOR MULTIPLE BOOKS)\n",
    "# http://rahulshettyacademy.com/Library/GetBook.php?AuthorName=Rahul Shetty2 (6 BOOKS)\n",
    "\n",
    "response = requests.get(url=\"http://rahulshettyacademy.com/Library/GetBook.php\",\n",
    "                        params={\"AuthorName\": \"Rahul Shetty2\"})\n",
    "\n",
    "print(type(response.text))\n",
    "print(response.text)\n",
    "print()\n",
    "\n",
    "# approach 1: convert json response string to dictionary using json library\n",
    "print(\"approach 1: convert json response string to dictionary using json library\")\n",
    "dict_response = json.loads(response.text)\n",
    "print(type(dict_response))\n",
    "print(dict_response)\n",
    "print(dict_response[0][\"isbn\"])\n",
    "\n",
    "print()\n",
    "\n",
    "# recommended\n",
    "# approach 2: request library provides json() method which returns the response as json object (dict)\n",
    "print(\"approach 2: request library provides json() method which returns the response as json object (dict)\")\n",
    "json_response = response.json()\n",
    "print(type(json_response))\n",
    "print(json_response)\n",
    "print(json_response[0][\"isbn\"])\n",
    "\n",
    "print()\n",
    "\n",
    "# validate response status & headers\n",
    "assert response.status_code == 200\n",
    "\n",
    "print(\"Headers\")\n",
    "print(type(response.headers))\n",
    "print(response.headers)\n",
    "\n",
    "assert response.headers[\"Content-Type\"] == \"application/json;charset=UTF-8\"\n"
   ]
  },
  {
   "cell_type": "markdown",
   "id": "91da5d97-9df6-4cdf-866b-49eb91c0670b",
   "metadata": {},
   "source": [
    "# POST request"
   ]
  },
  {
   "cell_type": "code",
   "execution_count": 7,
   "id": "52617860-193b-4c61-b075-25b7271667c3",
   "metadata": {},
   "outputs": [
    {
     "name": "stdout",
     "output_type": "stream",
     "text": [
      "200\n"
     ]
    }
   ],
   "source": [
    "import requests\n",
    "\n",
    "payload = {\n",
    "    \"name\": \"Learn Appium Automation with Java\",\n",
    "    \"isbn\": \"bcd\",\n",
    "    \"aisle\": \"227\",\n",
    "    \"author\": \"John foe\"\n",
    "}\n",
    "\n",
    "req_headers = {\n",
    "    \"Content-Type\": \"application/json\"\n",
    "}\n",
    "\n",
    "response = requests.post(url=\"http://rahulshettyacademy.com/Library/Addbook.php\",\n",
    "                         json=payload, headers=req_headers)\n",
    "print(response.status_code)"
   ]
  },
  {
   "cell_type": "markdown",
   "id": "0f61791a-868a-4b3d-81a9-1609149345a4",
   "metadata": {},
   "source": [
    "# DELETE request"
   ]
  },
  {
   "cell_type": "code",
   "execution_count": 8,
   "id": "8488d03f-0458-4796-8eb3-7dc59b4f5746",
   "metadata": {},
   "outputs": [
    {
     "name": "stdout",
     "output_type": "stream",
     "text": [
      "200\n"
     ]
    }
   ],
   "source": [
    "import requests\n",
    "\n",
    "payload = {\"ID\": \"1234\"}\n",
    "\n",
    "req_headers = {\n",
    "    \"Content-Type\": \"application/json\"\n",
    "}\n",
    "\n",
    "response = requests.delete(url=\"http://rahulshettyacademy.com/Library/DeleteBook.php\",\n",
    "                         json=payload, headers=req_headers)\n",
    "print(response.status_code)"
   ]
  },
  {
   "cell_type": "code",
   "execution_count": null,
   "id": "4f8db466-e603-4738-b37c-52c23cd8c493",
   "metadata": {},
   "outputs": [],
   "source": []
  }
 ],
 "metadata": {
  "kernelspec": {
   "display_name": "Python 3 (ipykernel)",
   "language": "python",
   "name": "python3"
  },
  "language_info": {
   "codemirror_mode": {
    "name": "ipython",
    "version": 3
   },
   "file_extension": ".py",
   "mimetype": "text/x-python",
   "name": "python",
   "nbconvert_exporter": "python",
   "pygments_lexer": "ipython3",
   "version": "3.12.5"
  }
 },
 "nbformat": 4,
 "nbformat_minor": 5
}
