{
 "cells": [
  {
   "cell_type": "markdown",
   "id": "5c80d57d-1c5c-4d1e-9312-c60fd5059b94",
   "metadata": {},
   "source": [
    "# Python SDET Backend Automation: API, SQL, SSH & Web Scrapping"
   ]
  },
  {
   "cell_type": "markdown",
   "id": "0860e865-af14-42a7-853f-82a8c65aeb6e",
   "metadata": {},
   "source": [
    "* JSON Parsers with Python modules\n",
    "* Read and Write to Json files with Python\n",
    "* API Automation using requests Library\n",
    "* Understand Crud operations GET, POST, DELETE, PUT API operations automation\n",
    "* Parsing API responses with Python utilities\n",
    "* Database interactions  with Python SQL Connector\n",
    "* BDD Automation Framework development from Scratch\n",
    "* Read the multiple result sets of database tables from Python\n",
    "* Integrating Database readers with API calls to build payload\n",
    "* CSV Parser with Python modules\n",
    "* Read and Write to CSV files with Python\n",
    "* Interacting with AWS Linux Servers\n",
    "* Establishing SSH connection to Linux using Python Paramiko\n",
    "* Sending the commands and executing the jobs in the Server through Python\n",
    "* Uploading and downloading the files of batch Jobs from Servers with paramiko\n",
    "* Importance of Web scrapping in Data science projects"
   ]
  },
  {
   "cell_type": "code",
   "execution_count": null,
   "id": "29fd5e5d-aba8-4a20-a15e-d52aeaeb2ae1",
   "metadata": {},
   "outputs": [],
   "source": []
  }
 ],
 "metadata": {
  "kernelspec": {
   "display_name": "Python 3 (ipykernel)",
   "language": "python",
   "name": "python3"
  },
  "language_info": {
   "codemirror_mode": {
    "name": "ipython",
    "version": 3
   },
   "file_extension": ".py",
   "mimetype": "text/x-python",
   "name": "python",
   "nbconvert_exporter": "python",
   "pygments_lexer": "ipython3",
   "version": "3.12.5"
  }
 },
 "nbformat": 4,
 "nbformat_minor": 5
}
