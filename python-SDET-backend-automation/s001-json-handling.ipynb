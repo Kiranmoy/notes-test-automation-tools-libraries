{
 "cells": [
  {
   "cell_type": "markdown",
   "id": "9d4f49fe-362a-4003-8f32-9a0c21061b41",
   "metadata": {},
   "source": [
    "The **`json`** library provides two methods for handling JSON data:\n",
    "* **`loads(string)`** -> Converts JSON string to dictionary\n",
    "* **`load(file)`** -> Converts JSON file to dictionary"
   ]
  },
  {
   "cell_type": "markdown",
   "id": "e836d812-7f52-44d6-9e69-c827350cff99",
   "metadata": {},
   "source": [
    "# Handling JSON String"
   ]
  },
  {
   "cell_type": "code",
   "execution_count": 1,
   "id": "5487ecd3-3ece-4eb4-b993-4f60b7438890",
   "metadata": {},
   "outputs": [
    {
     "name": "stdout",
     "output_type": "stream",
     "text": [
      "<class 'dict'>\n",
      "{'name': 'Kiranmoy', 'languages': ['Java', 'Python']}\n",
      "name = Kiranmoy\n",
      "languages = ['Java', 'Python']\n"
     ]
    }
   ],
   "source": [
    "import json\n",
    "\n",
    "courses = '''\n",
    "{\n",
    "    \"name\": \"Kiranmoy\",\n",
    "    \"languages\": [\"Java\", \"Python\"]\n",
    "}\n",
    "'''\n",
    "\n",
    "# loads() method parse json string and returns the dictionary object\n",
    "dict_courses = json.loads(courses)\n",
    "print(type(dict_courses))\n",
    "print(dict_courses)\n",
    "print(\"name = {}\".format(dict_courses[\"name\"]))\n",
    "print(\"languages = {}\".format(dict_courses[\"languages\"]))\n"
   ]
  },
  {
   "cell_type": "markdown",
   "id": "30ebd8a0-9893-4542-9769-9069ec999528",
   "metadata": {},
   "source": [
    "# Handling JSON File"
   ]
  },
  {
   "cell_type": "code",
   "execution_count": 2,
   "id": "14187332-90ef-48d1-b88a-c57f741805a2",
   "metadata": {},
   "outputs": [
    {
     "name": "stdout",
     "output_type": "stream",
     "text": [
      "<class 'dict'>\n",
      "{'dashboard': {'purchaseAmount': 910, 'website': 'rahulshettyacademy.com'}, 'courses': [{'title': 'Selenium Python', 'price': 50, 'copies': 6, 'details': {'site': 'http://rahulshettyacademy.com'}}, {'title': 'Cypress', 'price': 40, 'copies': 4}, {'title': 'RPA', 'price': 45, 'copies': 10}]}\n",
      "{'title': 'RPA', 'price': 45, 'copies': 10}\n"
     ]
    }
   ],
   "source": [
    "import json\n",
    "\n",
    "with open(\"courses.json\") as json_file:\n",
    "    # load() method parse json file and returns the dictionary object\n",
    "    dict_data = json.load(json_file)\n",
    "    print(type(dict_data))\n",
    "    print(dict_data)\n",
    "\n",
    "    # Parsing complex json with nested structure\n",
    "    courses = dict_data[\"courses\"]\n",
    "    for course in courses:\n",
    "        if course[\"title\"] == \"RPA\":\n",
    "            print(course)\n",
    "\n",
    "with open(\"courses.json\") as json_file:\n",
    "    # Compare two Json\n",
    "    dict_json1 = json.load(json_file)\n",
    "    dict_json2 = dict_json1\n",
    "    assert dict_json1 == dict_json2\n"
   ]
  },
  {
   "cell_type": "code",
   "execution_count": null,
   "id": "4c23147c-f253-4ca9-920c-20e5d510c8c1",
   "metadata": {},
   "outputs": [],
   "source": []
  }
 ],
 "metadata": {
  "kernelspec": {
   "display_name": "Python 3 (ipykernel)",
   "language": "python",
   "name": "python3"
  },
  "language_info": {
   "codemirror_mode": {
    "name": "ipython",
    "version": 3
   },
   "file_extension": ".py",
   "mimetype": "text/x-python",
   "name": "python",
   "nbconvert_exporter": "python",
   "pygments_lexer": "ipython3",
   "version": "3.12.5"
  }
 },
 "nbformat": 4,
 "nbformat_minor": 5
}
