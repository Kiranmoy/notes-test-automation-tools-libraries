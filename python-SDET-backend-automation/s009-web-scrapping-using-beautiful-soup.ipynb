{
 "cells": [
  {
   "cell_type": "markdown",
   "id": "a25295cc-f198-4e17-a231-1fde402b6227",
   "metadata": {},
   "source": [
    "* Web scrapping is all about extracting data from web pages.\n",
    "* "
   ]
  },
  {
   "cell_type": "markdown",
   "id": "7d56bbdd-11ff-4f25-b028-9af3472fd4b0",
   "metadata": {},
   "source": [
    "# Install beautifulsoup package"
   ]
  },
  {
   "cell_type": "code",
   "execution_count": 1,
   "id": "44099735-ce9a-48e1-9f56-95639fe1b7ef",
   "metadata": {},
   "outputs": [
    {
     "name": "stdout",
     "output_type": "stream",
     "text": [
      "Collecting bs4\n",
      "  Using cached bs4-0.0.2-py2.py3-none-any.whl.metadata (411 bytes)\n",
      "Requirement already satisfied: beautifulsoup4 in c:\\users\\kiranmoy_paul\\appdata\\roaming\\jupyterlab-desktop\\jlab_server\\lib\\site-packages (from bs4) (4.12.3)\n",
      "Requirement already satisfied: soupsieve>1.2 in c:\\users\\kiranmoy_paul\\appdata\\roaming\\jupyterlab-desktop\\jlab_server\\lib\\site-packages (from beautifulsoup4->bs4) (2.5)\n",
      "Using cached bs4-0.0.2-py2.py3-none-any.whl (1.2 kB)\n",
      "Installing collected packages: bs4\n",
      "Successfully installed bs4-0.0.2\n"
     ]
    }
   ],
   "source": [
    "!pip install bs4"
   ]
  },
  {
   "cell_type": "markdown",
   "id": "40c8f9fe-ee69-46f3-b080-0b6d8623d4d0",
   "metadata": {},
   "source": [
    "# Web scrapping"
   ]
  },
  {
   "cell_type": "code",
   "execution_count": 3,
   "id": "9c4b2cc2-96b5-439a-bbaf-392c734294b4",
   "metadata": {},
   "outputs": [
    {
     "name": "stdout",
     "output_type": "stream",
     "text": [
      "FIND FIRST MATCHING RESULT\n",
      "<span class=\"country-capital\">\n",
      " Andorra la Vella\n",
      "</span>\n",
      "\n",
      "FIND ALL MATCHING RESULT\n",
      "CAPITALS\n",
      "['Andorra la Vella', 'Abu Dhabi', 'Kabul', \"St. John's\", 'The Valley', 'Tirana', 'Yerevan', 'Luanda', 'None', 'Buenos Aires', 'Pago Pago', 'Vienna', 'Canberra', 'Oranjestad', 'Mariehamn', 'Baku', 'Sarajevo', 'Bridgetown', 'Dhaka', 'Brussels', 'Ouagadougou', 'Sofia', 'Manama', 'Bujumbura', 'Porto-Novo', 'Gustavia', 'Hamilton', 'Bandar Seri Begawan', 'Sucre', 'Kralendijk', 'Brasília', 'Nassau', 'Thimphu', 'None', 'Gaborone', 'Minsk', 'Belmopan', 'Ottawa', 'West Island', 'Kinshasa', 'Bangui', 'Brazzaville', 'Bern', 'Yamoussoukro', 'Avarua', 'Santiago', 'Yaoundé', 'Beijing', 'Bogotá', 'San José', 'Havana', 'Praia', 'Willemstad', 'Flying Fish Cove', 'Nicosia', 'Prague', 'Berlin', 'Djibouti', 'Copenhagen', 'Roseau', 'Santo Domingo', 'Algiers', 'Quito', 'Tallinn', 'Cairo', 'Laâyoune / El Aaiún', 'Asmara', 'Madrid', 'Addis Ababa', 'Helsinki', 'Suva', 'Stanley', 'Palikir', 'Tórshavn', 'Paris', 'Libreville', 'London', \"St. George's\", 'Tbilisi', 'Cayenne', 'St Peter Port', 'Accra', 'Gibraltar', 'Nuuk', 'Bathurst', 'Conakry', 'Basse-Terre', 'Malabo', 'Athens', 'Grytviken', 'Guatemala City', 'Hagåtña', 'Bissau', 'Georgetown', 'Hong Kong', 'None', 'Tegucigalpa', 'Zagreb', 'Port-au-Prince', 'Budapest', 'Jakarta', 'Dublin', 'None', 'Douglas', 'New Delhi', 'None', 'Baghdad', 'Tehran', 'Reykjavik', 'Rome', 'Saint Helier', 'Kingston', 'Amman', 'Tokyo', 'Nairobi', 'Bishkek', 'Phnom Penh', 'Tarawa', 'Moroni', 'Basseterre', 'Pyongyang', 'Seoul', 'Kuwait City', 'George Town', 'Astana', 'Vientiane', 'Beirut', 'Castries', 'Vaduz', 'Colombo', 'Monrovia', 'Maseru', 'Vilnius', 'Luxembourg', 'Riga', 'Tripoli', 'Rabat', 'Monaco', 'Chişinău', 'Podgorica', 'Marigot', 'Antananarivo', 'Majuro', 'Skopje', 'Bamako', 'Naypyitaw', 'Ulan Bator', 'Macao', 'Saipan', 'Fort-de-France', 'Nouakchott', 'Plymouth', 'Valletta', 'Port Louis', 'Malé', 'Lilongwe', 'Mexico City', 'Kuala Lumpur', 'Maputo', 'Windhoek', 'Noumea', 'Niamey', 'Kingston', 'Abuja', 'Managua', 'Amsterdam', 'Oslo', 'Kathmandu', 'Yaren', 'Alofi', 'Wellington', 'Muscat', 'Panama City', 'Lima', 'Papeete', 'Port Moresby', 'Manila', 'Islamabad', 'Warsaw', 'Saint-Pierre', 'Adamstown', 'San Juan', 'None', 'Lisbon', 'Melekeok', 'Asunción', 'Doha', 'Saint-Denis', 'Bucharest', 'Belgrade', 'Moscow', 'Kigali', 'Riyadh', 'Honiara', 'Victoria', 'Khartoum', 'Stockholm', 'Singapore', 'Jamestown', 'Ljubljana', 'Longyearbyen', 'Bratislava', 'Freetown', 'San Marino', 'Dakar', 'Mogadishu', 'Paramaribo', 'Juba', 'São Tomé', 'San Salvador', 'Philipsburg', 'Damascus', 'Mbabane', 'Cockburn Town', \"N'Djamena\", 'Port-aux-Français', 'Lomé', 'Bangkok', 'Dushanbe', 'None', 'Dili', 'Ashgabat', 'Tunis', \"Nuku'alofa\", 'Ankara', 'Port of Spain', 'Funafuti', 'Taipei', 'Dodoma', 'Kiev', 'Kampala', 'None', 'Washington', 'Montevideo', 'Tashkent', 'Vatican City', 'Kingstown', 'Caracas', 'Road Town', 'Charlotte Amalie', 'Hanoi', 'Port Vila', 'Mata-Utu', 'Apia', 'Pristina', 'Sanaa', 'Mamoudzou', 'Pretoria', 'Lusaka', 'Harare']\n",
      "Find element using visible text\n",
      "<span class=\"country-capital\">Kingstown</span>\n"
     ]
    }
   ],
   "source": [
    "import requests\n",
    "from bs4 import BeautifulSoup\n",
    "\n",
    "data = requests.get(\"https://www.scrapethissite.com/pages/simple/\")\n",
    "soup = BeautifulSoup(data.content, 'html.parser')\n",
    "# print(soup.prettify())\n",
    "\n",
    "print(\"FIND FIRST MATCHING RESULT\")\n",
    "country_capital = soup.find(\"span\",{'class':'country-capital'})\n",
    "print(country_capital.prettify())\n",
    "\n",
    "print(\"FIND ALL MATCHING RESULT\")\n",
    "country_capitals = soup.find_all(\"span\",{'class':'country-capital'})\n",
    "# print(country_capitals)\n",
    "\n",
    "print(\"CAPITALS\")\n",
    "capitals = []\n",
    "for capital in country_capitals:\n",
    "    capitals.append(capital.text)\n",
    "print(capitals)\n",
    "\n",
    "print(\"Find element using visible text\")\n",
    "kingstown = soup.find(\"span\", string=\"Kingstown\")\n",
    "print(kingstown)"
   ]
  },
  {
   "cell_type": "code",
   "execution_count": null,
   "id": "cb01700d-9bc4-4feb-bdc5-5908c093a6b4",
   "metadata": {},
   "outputs": [],
   "source": []
  }
 ],
 "metadata": {
  "kernelspec": {
   "display_name": "Python 3 (ipykernel)",
   "language": "python",
   "name": "python3"
  },
  "language_info": {
   "codemirror_mode": {
    "name": "ipython",
    "version": 3
   },
   "file_extension": ".py",
   "mimetype": "text/x-python",
   "name": "python",
   "nbconvert_exporter": "python",
   "pygments_lexer": "ipython3",
   "version": "3.12.5"
  }
 },
 "nbformat": 4,
 "nbformat_minor": 5
}
