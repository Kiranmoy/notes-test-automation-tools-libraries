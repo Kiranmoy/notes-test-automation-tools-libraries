{
 "cells": [
  {
   "cell_type": "markdown",
   "id": "e5976b36-d2b4-40d2-8714-47591ac995f3",
   "metadata": {},
   "source": [
    "# Install paramiko"
   ]
  },
  {
   "cell_type": "code",
   "execution_count": 1,
   "id": "78b8df6e-f1b1-4940-bedc-b2b12c28a723",
   "metadata": {},
   "outputs": [
    {
     "name": "stdout",
     "output_type": "stream",
     "text": [
      "Collecting paramiko\n",
      "  Downloading paramiko-3.5.1-py3-none-any.whl.metadata (4.6 kB)\n",
      "Collecting bcrypt>=3.2 (from paramiko)\n",
      "  Downloading bcrypt-4.3.0-cp39-abi3-win_amd64.whl.metadata (10 kB)\n",
      "Collecting cryptography>=3.3 (from paramiko)\n",
      "  Downloading cryptography-44.0.2-cp39-abi3-win_amd64.whl.metadata (5.7 kB)\n",
      "Collecting pynacl>=1.5 (from paramiko)\n",
      "  Downloading PyNaCl-1.5.0-cp36-abi3-win_amd64.whl.metadata (8.7 kB)\n",
      "Requirement already satisfied: cffi>=1.12 in c:\\users\\kiranmoy_paul\\appdata\\roaming\\jupyterlab-desktop\\jlab_server\\lib\\site-packages (from cryptography>=3.3->paramiko) (1.17.0)\n",
      "Requirement already satisfied: pycparser in c:\\users\\kiranmoy_paul\\appdata\\roaming\\jupyterlab-desktop\\jlab_server\\lib\\site-packages (from cffi>=1.12->cryptography>=3.3->paramiko) (2.22)\n",
      "Downloading paramiko-3.5.1-py3-none-any.whl (227 kB)\n",
      "Downloading bcrypt-4.3.0-cp39-abi3-win_amd64.whl (152 kB)\n",
      "Downloading cryptography-44.0.2-cp39-abi3-win_amd64.whl (3.2 MB)\n",
      "   ---------------------------------------- 0.0/3.2 MB ? eta -:--:--\n",
      "   ---------------------- ----------------- 1.8/3.2 MB 7.2 MB/s eta 0:00:01\n",
      "   ----------------------------------- ---- 2.9/3.2 MB 6.0 MB/s eta 0:00:01\n",
      "   ---------------------------------------  3.1/3.2 MB 5.8 MB/s eta 0:00:01\n",
      "   ---------------------------------------  3.1/3.2 MB 5.8 MB/s eta 0:00:01\n",
      "   ---------------------------------------  3.1/3.2 MB 5.8 MB/s eta 0:00:01\n",
      "   ---------------------------------------  3.1/3.2 MB 5.8 MB/s eta 0:00:01\n",
      "   ---------------------------------------- 3.2/3.2 MB 2.1 MB/s eta 0:00:00\n",
      "Downloading PyNaCl-1.5.0-cp36-abi3-win_amd64.whl (212 kB)\n",
      "Installing collected packages: bcrypt, pynacl, cryptography, paramiko\n",
      "Successfully installed bcrypt-4.3.0 cryptography-44.0.2 paramiko-3.5.1 pynacl-1.5.0\n"
     ]
    }
   ],
   "source": [
    "!pip install paramiko"
   ]
  },
  {
   "cell_type": "markdown",
   "id": "72599bd7-49c2-4f39-9af8-82a8aab7af0b",
   "metadata": {},
   "source": [
    "# Establish connection via SSH and execute commands"
   ]
  },
  {
   "cell_type": "markdown",
   "id": "ecc648d9-5d6c-484d-9241-78b8b95ac473",
   "metadata": {},
   "source": [
    "```python\n",
    "\n",
    "# https://linuxzoo.net/\n",
    "# This site provides to launch free VMs and test SSH\n",
    "# email: paul.kiranmoy@gmail.com\n",
    "# password: linux\n",
    "\n",
    "import paramiko\n",
    "\n",
    "ssh = paramiko.SSHClient()\n",
    "ssh.set_missing_host_key_policy(paramiko.AutoAddPolicy())\n",
    "ssh.connect(\n",
    "    hostname=\"\",\n",
    "    port=1234,\n",
    "    username=\"\",\n",
    "    password=\"\"\n",
    ")\n",
    "\n",
    "\n",
    "# Execute commands\n",
    "\n",
    "# exec_command methods returns a tuple containing \"standard input\", standard output\" & \"standard error\"\n",
    "stdin, stdout, stderr = ssh.exec_command(\"ls -a\")\n",
    "print(\"STDIN: {}\".format(stdin))\n",
    "print(\"STDOUT: {}\".format(stdout))\n",
    "print(\"STDERR: {}\".format(stderr))\n",
    "\n",
    "ssh.close()\n",
    "\n",
    "```"
   ]
  },
  {
   "cell_type": "markdown",
   "id": "84070d75-0cf2-4191-a683-a2604215fce4",
   "metadata": {},
   "source": [
    "# Upload file to server"
   ]
  },
  {
   "cell_type": "markdown",
   "id": "277f8e00-6773-4349-831d-e4c5f829f565",
   "metadata": {},
   "source": [
    "```python\n",
    "\n",
    "import paramiko\n",
    "\n",
    "ssh = paramiko.SSHClient()\n",
    "ssh.set_missing_host_key_policy(paramiko.AutoAddPolicy())\n",
    "ssh.connect(\n",
    "    hostname=\"\",\n",
    "    port=1234,\n",
    "    username=\"\",\n",
    "    password=\"\"\n",
    ")\n",
    "\n",
    "# UPLOAD FILE\n",
    "# source: local system\n",
    "# destination: server\n",
    "\n",
    "sftp = ssh.open_sftp()\n",
    "\n",
    "source_path = \"batch_files/script.py\"\n",
    "destination_path = \"script.py\"\n",
    "sftp.put(source_path,destination_path)\n",
    "\n",
    "source_path = \"batch_files/loanapp.csv\"\n",
    "destination_path = \"loanapp.csv\"\n",
    "sftp.put(source_path,destination_path)\n",
    "\n",
    "ssh.close()\n",
    "\n",
    "```"
   ]
  },
  {
   "cell_type": "markdown",
   "id": "baf18bf1-ebf8-40ce-ac85-37a5a0abe407",
   "metadata": {},
   "source": [
    "# Download files from server"
   ]
  },
  {
   "cell_type": "markdown",
   "id": "4f83c29d-2b3f-475c-982e-b1a1af8027c4",
   "metadata": {},
   "source": [
    "```python\n",
    "\n",
    "import paramiko\n",
    "\n",
    "ssh = paramiko.SSHClient()\n",
    "ssh.set_missing_host_key_policy(paramiko.AutoAddPolicy())\n",
    "ssh.connect(\n",
    "    hostname=\"\",\n",
    "    port=1234,\n",
    "    username=\"\",\n",
    "    password=\"\"\n",
    ")\n",
    "\n",
    "# DOWNLOAD FILE\n",
    "# source: server\n",
    "# destination: local system\n",
    "\n",
    "sftp = ssh.open_sftp()\n",
    "\n",
    "source_path = \"loanapp.csv\"\n",
    "destination_path = \"batch_files/loanapp.csv\"\n",
    "sftp.get(source_path,destination_path)\n",
    "\n",
    "ssh.close()\n",
    "\n",
    "```"
   ]
  },
  {
   "cell_type": "code",
   "execution_count": null,
   "id": "b2b6156a-4b3d-410b-8fb8-692ffe54d6a5",
   "metadata": {},
   "outputs": [],
   "source": []
  }
 ],
 "metadata": {
  "kernelspec": {
   "display_name": "Python 3 (ipykernel)",
   "language": "python",
   "name": "python3"
  },
  "language_info": {
   "codemirror_mode": {
    "name": "ipython",
    "version": 3
   },
   "file_extension": ".py",
   "mimetype": "text/x-python",
   "name": "python",
   "nbconvert_exporter": "python",
   "pygments_lexer": "ipython3",
   "version": "3.12.5"
  }
 },
 "nbformat": 4,
 "nbformat_minor": 5
}
