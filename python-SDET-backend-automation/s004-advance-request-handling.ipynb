{
 "cells": [
  {
   "cell_type": "markdown",
   "id": "1030dcb5-20b9-4c77-a279-8bd2dd1ff0b5",
   "metadata": {},
   "source": [
    "# Install requests library"
   ]
  },
  {
   "cell_type": "code",
   "execution_count": 5,
   "id": "396c55ed-deb3-49b1-8540-bbb347c86e37",
   "metadata": {
    "scrolled": true
   },
   "outputs": [
    {
     "name": "stdout",
     "output_type": "stream",
     "text": [
      "Requirement already satisfied: requests in c:\\users\\kiranmoy_paul\\appdata\\roaming\\jupyterlab-desktop\\jlab_server\\lib\\site-packages (2.32.3)\n",
      "Requirement already satisfied: charset-normalizer<4,>=2 in c:\\users\\kiranmoy_paul\\appdata\\roaming\\jupyterlab-desktop\\jlab_server\\lib\\site-packages (from requests) (3.3.2)\n",
      "Requirement already satisfied: idna<4,>=2.5 in c:\\users\\kiranmoy_paul\\appdata\\roaming\\jupyterlab-desktop\\jlab_server\\lib\\site-packages (from requests) (3.8)\n",
      "Requirement already satisfied: urllib3<3,>=1.21.1 in c:\\users\\kiranmoy_paul\\appdata\\roaming\\jupyterlab-desktop\\jlab_server\\lib\\site-packages (from requests) (2.2.2)\n",
      "Requirement already satisfied: certifi>=2017.4.17 in c:\\users\\kiranmoy_paul\\appdata\\roaming\\jupyterlab-desktop\\jlab_server\\lib\\site-packages (from requests) (2024.7.4)\n"
     ]
    }
   ],
   "source": [
    "!pip3 install requests"
   ]
  },
  {
   "cell_type": "markdown",
   "id": "504a7373-d062-4afb-95c0-504c7f9b0353",
   "metadata": {},
   "source": [
    "# Handling Session"
   ]
  },
  {
   "cell_type": "code",
   "execution_count": 1,
   "id": "b97d54f1-4339-4445-885e-2072d1ec1f35",
   "metadata": {},
   "outputs": [
    {
     "name": "stdout",
     "output_type": "stream",
     "text": [
      "401\n",
      "401\n",
      "{'message': 'Requires authentication', 'documentation_url': 'https://docs.github.com/rest/repos/repos#list-repositories-for-the-authenticated-user', 'status': '401'}\n"
     ]
    }
   ],
   "source": [
    "import requests\n",
    "\n",
    "BASE_URI = \"http://api.github.com\"\n",
    "EP_USER_AUTHENTICATION = \"/user\"\n",
    "EP_LIST_USER_REPOS = \"/user/repos\"\n",
    "\n",
    "\n",
    "## using session manager to maintain session configuration\n",
    "req_session = requests.session()\n",
    "req_session.auth = (\"user\",\"pass\")\n",
    "\n",
    "# verify=False to disable SSL certificate verification\n",
    "# Note using session manager to invoke the api request\n",
    "response = req_session.get(url=\"{}{}\".format(BASE_URI,EP_USER_AUTHENTICATION))\n",
    "\n",
    "print(response.status_code)\n",
    "\n",
    "# Note using session manager to invoke the api request\n",
    "response = req_session.get(url=\"{}{}\".format(BASE_URI,EP_LIST_USER_REPOS))\n",
    "\n",
    "print(response.status_code)\n",
    "print(response.json())"
   ]
  },
  {
   "cell_type": "markdown",
   "id": "6459cc17-8c39-4405-b06e-5c0fce21cdb4",
   "metadata": {},
   "source": [
    "# Handling Cookies"
   ]
  },
  {
   "cell_type": "code",
   "execution_count": 2,
   "id": "2c75dcf2-582a-4238-ab9d-fc47c28e877c",
   "metadata": {},
   "outputs": [
    {
     "name": "stdout",
     "output_type": "stream",
     "text": [
      "200\n",
      "{'cookies': {'mycookie1': 'myvalue1'}}\n",
      "200\n",
      "{'cookies': {'mycookie2': 'myvalue2'}}\n"
     ]
    }
   ],
   "source": [
    "import requests\n",
    "\n",
    "## handling cookies\n",
    "req_cookies = {\"mycookie1\": \"myvalue1\"}\n",
    "\n",
    "response = requests.get(\"https://httpbin.org/cookies\", cookies=req_cookies)\n",
    "print(response.status_code)\n",
    "print(response.json())\n",
    "\n",
    "## handling cookies via session manager\n",
    "req_cookies = {\"mycookie2\": \"myvalue2\"}\n",
    "req_session = requests.session()\n",
    "req_session.cookies.update(req_cookies)\n",
    "response = req_session.get(\"https://httpbin.org/cookies\")\n",
    "print(response.status_code)\n",
    "print(response.json())"
   ]
  },
  {
   "cell_type": "markdown",
   "id": "7d4be79b-1af0-4fe6-9f12-7390e86bca19",
   "metadata": {},
   "source": [
    "# Handling redirection & timeouts"
   ]
  },
  {
   "cell_type": "code",
   "execution_count": 3,
   "id": "bf1fedba-a827-4623-a52e-a1517e97e1af",
   "metadata": {},
   "outputs": [
    {
     "name": "stdout",
     "output_type": "stream",
     "text": [
      "STATUS CODE = 200\n",
      "RESPONSE HISTORY: [<Response [301]>]\n",
      "STATUS CODE = 301\n"
     ]
    }
   ],
   "source": [
    "import requests\n",
    "\n",
    "# How to check for redirection?\n",
    "\n",
    "# approach 1: check response history\n",
    "# if it has 301 status then that means the request has been redirected at some point\n",
    "response = requests.get(\"http://rahulshettyacademy.com\")\n",
    "print(\"STATUS CODE = {}\".format(response.status_code))\n",
    "print(\"RESPONSE HISTORY: {}\".format(response.history))\n",
    "\n",
    "\n",
    "\n",
    "\n",
    "'''\n",
    "What is the purpose of the 'allow_redirects' parameter in Requests?\n",
    "In Python's requests library, the allow_redirects parameter is used to control whether or not the library should automatically follow HTTP redirects (status codes like 301, 302, 303, 307, and 308). \n",
    "By default, allow_redirects is set to True, meaning that if the server responds with a redirect, the requests library will automatically perform the redirection to the new URL provided in the response headers.\n",
    "\n",
    "When you set allow_redirects to False, the library will not follow redirects and will instead return the original response that includes the redirect status and the new location to which it is attempting to redirect.\n",
    "'''\n",
    "\n",
    "# approach 2: use allow_redirects=False in the request\n",
    "# Note that timeout will wait for the specified time before returning the response. \n",
    "# This is generally used for synchromization due to heavy load.\n",
    "response = requests.get(\"http://rahulshettyacademy.com\", allow_redirects=False, timeout=1)\n",
    "print(\"STATUS CODE = {}\".format(response.status_code))"
   ]
  },
  {
   "cell_type": "markdown",
   "id": "9a4cfb22-d647-4cf8-aaac-98b3d87b3236",
   "metadata": {},
   "source": [
    "# Handling attachments"
   ]
  },
  {
   "cell_type": "code",
   "execution_count": 5,
   "id": "7a85c637-ad58-4f3d-8fee-a00bfc28676b",
   "metadata": {},
   "outputs": [
    {
     "name": "stdout",
     "output_type": "stream",
     "text": [
      "200\n",
      "{'code': 200, 'type': 'unknown', 'message': 'additionalMetadata: null\\nFile uploaded to ./puppy-1903313_640.jpg, 55176 bytes'}\n"
     ]
    }
   ],
   "source": [
    "import requests\n",
    "\n",
    "BASE_URL = \"https://petstore.swagger.io/v2\"\n",
    "EP_UPLOAD_IMAGE = \"/pet/{petID}/uploadImage\"\n",
    "petId = 9223372036854751000\n",
    "\n",
    "URL = \"{}{}\".format(BASE_URL,EP_UPLOAD_IMAGE.format(petID=petId))\n",
    "\n",
    "# attachment\n",
    "files_attachment = {\"file\": open(\"puppy-1903313_640.jpg\",\"rb\")}\n",
    "response = requests.post(url=URL, files=files_attachment)\n",
    "\n",
    "print(response.status_code)\n",
    "print(response.json())"
   ]
  },
  {
   "attachments": {
    "e22d1192-fcd5-4ec8-98a8-1f9ca62b92f8.png": {
     "image/png": "[encoded data removed]"
    }
   },
   "cell_type": "markdown",
   "id": "8644a762-e791-4052-bf82-7a05d8df6786",
   "metadata": {},
   "source": [
    "![image.png](attachment:e22d1192-fcd5-4ec8-98a8-1f9ca62b92f8.png)"
   ]
  },
  {
   "cell_type": "code",
   "execution_count": null,
   "id": "3855d26f-e01b-4cea-a2aa-6de0f17f126f",
   "metadata": {},
   "outputs": [],
   "source": []
  }
 ],
 "metadata": {
  "kernelspec": {
   "display_name": "Python 3 (ipykernel)",
   "language": "python",
   "name": "python3"
  },
  "language_info": {
   "codemirror_mode": {
    "name": "ipython",
    "version": 3
   },
   "file_extension": ".py",
   "mimetype": "text/x-python",
   "name": "python",
   "nbconvert_exporter": "python",
   "pygments_lexer": "ipython3",
   "version": "3.12.5"
  }
 },
 "nbformat": 4,
 "nbformat_minor": 5
}
