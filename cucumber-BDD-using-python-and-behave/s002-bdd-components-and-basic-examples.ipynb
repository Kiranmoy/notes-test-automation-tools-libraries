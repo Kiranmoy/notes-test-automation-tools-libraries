{
 "cells": [
  {
   "cell_type": "markdown",
   "id": "2ca0fb8f-0af9-4911-9ce3-8c839caf3109",
   "metadata": {},
   "source": [
    "# Directory Structure"
   ]
  },
  {
   "attachments": {
    "1588e8f6-283c-429c-8ab7-ffa4cb0f191e.png": {
     "image/png": "[encoded data removed]"
    }
   },
   "cell_type": "markdown",
   "id": "59c53dd5-29e1-4b7a-9529-c39d849bebfe",
   "metadata": {},
   "source": [
    "* BDD consists of:\n",
    "    * Steps (Given, When, Then, And, But): Located in feature files (`.feature`).\n",
    "    * Steps Definitions: Located in Python files (`.py`).\n",
    "* Behave handles several options for directory layout or folder structure.\n",
    "* A `steps` directory is required in the directory which contains the feature files.\n",
    "\n",
    "Two examples that meet the minimum requirement are:\n",
    "\n",
    "**Test Layout Option 1**:\n",
    "\n",
    "![image.png](attachment:1588e8f6-283c-429c-8ab7-ffa4cb0f191e.png)\n",
    "\n",
    "\n",
    "**Test Layout Option 2**:\n",
    "\n",
    "```\n",
    "[Root]\n",
    "\n",
    "|--------------------Core Implementation\n",
    "\n",
    "|--------------------[features]\n",
    "                            |-------------- testcase1.feature\n",
    "                            |-------------- testcase2.feature                          \n",
    "                            |-------------- testcase3.feature\n",
    "                            \n",
    "|-------------------- [steps]\n",
    "                            |-------------- steps.py                           \n",
    "                            |-------------- more_python.py\n",
    "```\n"
   ]
  },
  {
   "cell_type": "markdown",
   "id": "e40f6a84-8376-40de-9cbb-60b44b1d6fd6",
   "metadata": {},
   "source": [
    "# Feature File        "
   ]
  },
  {
   "attachments": {},
   "cell_type": "markdown",
   "id": "719aaefd-b633-4f82-8b3a-b7d1aa576b72",
   "metadata": {},
   "source": [
    "* **Feature**\n",
    "    * Feature file has `.feature` extension.\n",
    "    * A feature is equivalent to a story.\n",
    "    * Starts with the `Feature:` keyword. \n",
    "    * Each feature file can have only one `Feature:` keyword.\n",
    "* **Scenario/Test case**\n",
    "    * Starts with the `Scenario:` keyword.\n",
    "    * Can have multiple scenarios in a single feature file.\n",
    "* **Steps**\n",
    "* One or multiple lines with keywords: `Given`, `When`, `Then`, `And`, and `But`.\n",
    "* Can have multiple steps in a single scenario."
   ]
  },
  {
   "cell_type": "markdown",
   "id": "309d6249-d4d6-45d5-9786-582b4061fff3",
   "metadata": {},
   "source": [
    "## Examples"
   ]
  },
  {
   "cell_type": "markdown",
   "id": "4ee30568-583b-4e6b-a193-1ad830ecd1e3",
   "metadata": {},
   "source": [
    "```gherkin\n",
    "Feature: Attempt to logging in with invalid credentials\n",
    "\n",
    "\n",
    "    Scenario: None existing user try to login\n",
    "\n",
    "        Given I generate a random email address\n",
    "        When I type random email\n",
    "        When I type correct password\n",
    "        When I click on 'Login'\n",
    "        Then I should see the text 'Error: User not found'\n",
    "\n",
    "\n",
    "    Scenario: User try to login with wrong password\n",
    "\n",
    "        Given I create a user\n",
    "        When I type correct email\n",
    "        When I type random password\n",
    "        When I click on 'Login'\n",
    "        Then I should see the text 'Error: Incorrect password'\n",
    "\n",
    "\n",
    "    Scenario: User try to login with no password\n",
    "\n",
    "        Given I create a user\n",
    "        When I type correct email\n",
    "        When I click on 'Login'\n",
    "        Then I should see the text 'Error: Password field is empty'\n",
    "\n",
    "\n",
    "    Scenario: User try to login with invalid format email\n",
    "\n",
    "        When I type invalid format email\n",
    "        When I type correct password\n",
    "        When I click on 'Login'\n",
    "        Then I should see the text 'Error: Email is invalid format'\n",
    "```"
   ]
  },
  {
   "cell_type": "markdown",
   "id": "719372af-e123-4d99-bad1-b576eaa65eb0",
   "metadata": {},
   "source": [
    "# Step Definition file"
   ]
  },
  {
   "cell_type": "markdown",
   "id": "df2c9ad9-03b1-4f71-9fa5-9fd405215559",
   "metadata": {},
   "source": [
    "* Step definitions go under the `steps` directory.\n",
    "    * The `steps` directory is required to be in the directory which contains the feature files.\n",
    "    * Each step is represented as a Python function and must have any one of the decorators: `Given`, `When`, `Then`, `And`, or `But`.\n",
    "* More `.py` files can exist in the `steps` folder that are not definitions. They will have logic and can get imported into the definition file."
   ]
  },
  {
   "cell_type": "markdown",
   "id": "dca19960-ca67-405d-9153-9ebdfe5a19c1",
   "metadata": {},
   "source": [
    "## Example:"
   ]
  },
  {
   "cell_type": "markdown",
   "id": "02525df1-c0f8-4a91-aa04-4d4837c42245",
   "metadata": {},
   "source": [
    "```python\n",
    "\n",
    "\n",
    "from behave import given, when, then\n",
    "import user\n",
    "import assertions\n",
    "import pdb\n",
    "\n",
    "@given(\"I create a new user\")\n",
    "def create_new_user(context):\n",
    "    \"\"\"\n",
    "    Step to create a new user.\n",
    "    :return:\n",
    "    \"\"\"\n",
    "    print(\"I am creating a new user\")\n",
    "    print(\":) :) :) :) :) :)\")\n",
    "    print(\"More code would go here\")\n",
    "    # user.user_creator()\n",
    "    prefix = context.config.userdata.get('prefix')\n",
    "\n",
    "    pdb.set_trace()\n",
    "\n",
    "@when(\"I type email\")\n",
    "def type_the_email(context):\n",
    "    \"\"\"\n",
    "    Step to type email address in the email field\n",
    "    :return:\n",
    "    \"\"\"\n",
    "\n",
    "    print(\"Typing the email in the email field.\")\n",
    "    # email_field = driver.find_element('id', 'email')\n",
    "    # email_field.send_keys('test@supersqa.com')\n",
    "    print(\"Just finished typing the email :)\")\n",
    "\n",
    "@when(\"I type password\")\n",
    "def type_the_password(context):\n",
    "    \"\"\"\n",
    "    Step to type email address in the password field\n",
    "    :return:\n",
    "    \"\"\"\n",
    "    print(\"Typing the password in the password field\")\n",
    "    # pass_field = driver.find_element_by_id('password')\n",
    "    # pass_field.send_keys('123456')\n",
    "    print(\"Just typed the password. :)\")\n",
    "\n",
    "@when(\"I click on 'Login'\")\n",
    "def click_login(context):\n",
    "    \"\"\"\n",
    "    Step to click login\n",
    "    :return:\n",
    "    \"\"\"\n",
    "    print(\"I am clicking login!!!!\")\n",
    "\n",
    "@then(\"I should see the text Welcome\")\n",
    "def see_welcome_text(context):\n",
    "    \"\"\"\n",
    "    Step to verify text is displayed\n",
    "    :return:\n",
    "    \"\"\"\n",
    "    assertions.assert_text_visible('Welcome')\n",
    "    print(\"checking if 'Welcome' text is displayed\")\n",
    "    print(\"Yep it sure is there!!!\")\n",
    "    print(\"PASS!!!\")\n",
    "\n",
    "@when(\"I type correct email\")\n",
    "def type_correct_email(context):\n",
    "    print(\"Typing correct email.\")\n",
    "\n",
    "```"
   ]
  },
  {
   "cell_type": "markdown",
   "id": "7d16c038-04ad-465a-ab44-ee67b8f7cf05",
   "metadata": {},
   "source": [
    "# Execute behave via command-line"
   ]
  },
  {
   "cell_type": "markdown",
   "id": "519ccfe7-7379-46e8-8f5b-21b7061bbcd8",
   "metadata": {},
   "source": [
    "* Ways to run tests in **behave**:\n",
    "    * One feature file at a time\n",
    "    * All feature files in directory/sub-directory\n",
    "    * Group of features/scenarios controlled by Tags\n",
    "* Output of the test run is highly configurable.\n",
    "    * By default, a passing test doesn't print to **stdout**, only failing test print the error in **stdout**.\n",
    "    * To enable logging in **stdout**, use the **`--no-capture`** command line argument with **`behave`** command.\n",
    "    * By default, output coloring is turned off in console/stdout.\n",
    "    * To turn off output coloring, use the **`--no-color`** command line argument with **`behave`** command.\n",
    "    * To turn off output coloring, use the **`--color`** command line argument with **`behave`** command.\n",
    "\n",
    "**Assume you have following Test Layout**:\n",
    "\n",
    "```\n",
    "[Root]\n",
    "\n",
    "|--------------------Core Implementation\n",
    "\n",
    "|--------------------[features]\n",
    "                            |-------------- testcase1.feature\n",
    "                            |-------------- testcase2.feature                          \n",
    "                            |-------------- testcase3.feature\n",
    "\n",
    "                            |-------------------- [steps]\n",
    "                                                    |-------------- steps.py                           \n",
    "                                                    |-------------- more_python.py\n",
    "```\n",
    "\n"
   ]
  },
  {
   "cell_type": "markdown",
   "id": "3bdd49da-86a0-42a0-bbba-b45e6afe8172",
   "metadata": {},
   "source": [
    "## Run one feature file at a time"
   ]
  },
  {
   "cell_type": "markdown",
   "id": "a31104cc-5788-45ff-a59b-84a95655c8de",
   "metadata": {},
   "source": [
    "```\n",
    "behave testcase1.feature\n",
    "\n",
    "behave testcase1.feature --no-capture\n",
    "\n",
    "behave testcase1.feature --no-capture --color\n",
    "```"
   ]
  },
  {
   "cell_type": "markdown",
   "id": "f4222127-068e-4d08-a876-820a2d3b19fe",
   "metadata": {},
   "source": [
    "## Run all feature files "
   ]
  },
  {
   "cell_type": "markdown",
   "id": "b9d5aede-b5ac-47a1-99c1-65ba284e0187",
   "metadata": {},
   "source": [
    "* Behave is smart enough to find tests in sub-directories, as long as there is a `steps` directory one level up or in the same level.\n",
    "* If there is a `steps` folder in the current directory then it will not go up to look for more definitions.\n",
    "\n",
    "```\n",
    "behave\n",
    "```"
   ]
  },
  {
   "cell_type": "markdown",
   "id": "f8164b0b-d10f-41a6-ac31-4531194ed1dc",
   "metadata": {},
   "source": [
    "# Displaying Output"
   ]
  },
  {
   "cell_type": "markdown",
   "id": "2033fadb-98aa-414e-b7e5-3f72a08e5cc0",
   "metadata": {},
   "source": [
    "* By default, Behave does not print the standard output in the console for tests that pass.\n",
    "* Standards outputs are 'logging' statements or 'print; statement.\n",
    "* If the test fails, all logging for the failed test will show.\n",
    "* To force printing, use command lone argument `--no-capture`.\n",
    "\n",
    "```\n",
    "bheave --no-capture\n",
    "```\n",
    "\n",
    "> Note: use `behave --help` for more command line options"
   ]
  },
  {
   "cell_type": "markdown",
   "id": "9d331dc7-965b-4469-b3cf-8f3d4f645231",
   "metadata": {},
   "source": [
    "# `Given`, `When`, `Then`, `And`, or `But`"
   ]
  },
  {
   "cell_type": "markdown",
   "id": "8215e186-6261-45cb-8e78-bddd90f7b9e0",
   "metadata": {},
   "source": [
    "**`Given`**\n",
    "- used for pre-condition\n",
    "- setup actions\n",
    "- no interaction\n",
    "\n",
    "**`When`**\n",
    "- interaction with application\n",
    "- act on something\n",
    "\n",
    "**`Then`**\n",
    "- verification\n",
    "- expectation\n",
    "\n",
    "**`And` & `But`**\n",
    "- represent the preceding keyword `Given`, `When` & `Then`.\n",
    "- just a syntactic sugar for better semantics, expression, and easier readablity.\n",
    "\n",
    "\n",
    "**Example: Without `And` & `But` keyword**\n",
    "\n",
    "```gherkin\n",
    "Feature: Taxes\n",
    "\n",
    "Scenario: Tax should be calculated\n",
    "\n",
    "Given I am a new user\n",
    "Given I have a credit card\n",
    "Given I am logged in\n",
    "When I search for a headphone\n",
    "When I add a headphone to my cart\n",
    "Then the tax should be calculated\n",
    "Then the subtotal should be correct\n",
    "Then the total should be correct\n",
    "```\n",
    "\n",
    "**Example: With `And` & `But` keyword**\n",
    "\n",
    "```gherkin\n",
    "Feature: Taxes\n",
    "\n",
    "Scenario: Tax should be calculated for logged in user\n",
    "\n",
    "Given I am a new user\n",
    "And I have a credit card\n",
    "And I am logged in\n",
    "When I search for a headphone\n",
    "And I add a headphone to my cart\n",
    "Then the tax should be calculated\n",
    "And the subtotal should be correct\n",
    "Then the total should be correct\n",
    "```\n",
    "\n",
    "```gherkin\n",
    "Feature: Taxes\n",
    "\n",
    "Scenario: Tax should be calculated user not logged in\n",
    "\n",
    "Given I am a new user\n",
    "And I have a credit card\n",
    "But I am not logged in\n",
    "When I search for a headphone\n",
    "And I add a headphone to my cart\n",
    "Then the tax should be calculated\n",
    "And the subtotal should be correct\n",
    "And the total should be correct\n",
    "But the order should not get placed\n",
    "```"
   ]
  },
  {
   "cell_type": "code",
   "execution_count": null,
   "id": "24aac410-6797-44bb-914b-098b8c2fcfb2",
   "metadata": {},
   "outputs": [],
   "source": [
    "\n"
   ]
  }
 ],
 "metadata": {
  "kernelspec": {
   "display_name": "Python 3 (ipykernel)",
   "language": "python",
   "name": "python3"
  },
  "language_info": {
   "codemirror_mode": {
    "name": "ipython",
    "version": 3
   },
   "file_extension": ".py",
   "mimetype": "text/x-python",
   "name": "python",
   "nbconvert_exporter": "python",
   "pygments_lexer": "ipython3",
   "version": "3.12.5"
  }
 },
 "nbformat": 4,
 "nbformat_minor": 5
}
